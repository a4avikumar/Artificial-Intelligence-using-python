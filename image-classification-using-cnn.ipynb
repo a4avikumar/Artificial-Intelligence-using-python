{
 "cells": [
  {
   "cell_type": "code",
   "execution_count": 1,
   "id": "c95c3ae7",
   "metadata": {
    "_cell_guid": "b1076dfc-b9ad-4769-8c92-a6c4dae69d19",
    "_uuid": "8f2839f25d086af736a60e9eeb907d3b93b6e0e5",
    "execution": {
     "iopub.execute_input": "2024-01-28T21:50:21.434659Z",
     "iopub.status.busy": "2024-01-28T21:50:21.434388Z",
     "iopub.status.idle": "2024-01-28T21:50:22.225648Z",
     "shell.execute_reply": "2024-01-28T21:50:22.224885Z"
    },
    "papermill": {
     "duration": 0.802724,
     "end_time": "2024-01-28T21:50:22.227847",
     "exception": false,
     "start_time": "2024-01-28T21:50:21.425123",
     "status": "completed"
    },
    "tags": []
   },
   "outputs": [],
   "source": [
    "# This Python 3 environment comes with many helpful analytics libraries installed\n",
    "# It is defined by the kaggle/python Docker image: https://github.com/kaggle/docker-python\n",
    "# For example, here's several helpful packages to load\n",
    "\n",
    "import numpy as np # linear algebra\n",
    "import pandas as pd # data processing, CSV file I/O (e.g. pd.read_csv)\n",
    "\n",
    "# Input data files are available in the read-only \"../input/\" directory\n",
    "# For example, running this (by clicking run or pressing Shift+Enter) will list all files under the input directory\n",
    "\n",
    "import os\n",
    "for dirname, _, filenames in os.walk('/kaggle/input'):\n",
    "    for filename in filenames:\n",
    "        print(os.path.join(dirname, filename))\n",
    "\n",
    "# You can write up to 20GB to the current directory (/kaggle/working/) that gets preserved as output when you create a version using \"Save & Run All\" \n",
    "# You can also write temporary files to /kaggle/temp/, but they won't be saved outside of the current session"
   ]
  },
  {
   "cell_type": "raw",
   "id": "4b485137",
   "metadata": {
    "papermill": {
     "duration": 0.007064,
     "end_time": "2024-01-28T21:50:22.242564",
     "exception": false,
     "start_time": "2024-01-28T21:50:22.235500",
     "status": "completed"
    },
    "tags": []
   },
   "source": []
  },
  {
   "cell_type": "code",
   "execution_count": 2,
   "id": "aadfc088",
   "metadata": {
    "execution": {
     "iopub.execute_input": "2024-01-28T21:50:22.257987Z",
     "iopub.status.busy": "2024-01-28T21:50:22.257599Z",
     "iopub.status.idle": "2024-01-28T21:50:34.809878Z",
     "shell.execute_reply": "2024-01-28T21:50:34.809085Z"
    },
    "papermill": {
     "duration": 12.562579,
     "end_time": "2024-01-28T21:50:34.812233",
     "exception": false,
     "start_time": "2024-01-28T21:50:22.249654",
     "status": "completed"
    },
    "tags": []
   },
   "outputs": [
    {
     "name": "stderr",
     "output_type": "stream",
     "text": [
      "/opt/conda/lib/python3.10/site-packages/scipy/__init__.py:146: UserWarning: A NumPy version >=1.16.5 and <1.23.0 is required for this version of SciPy (detected version 1.24.3\n",
      "  warnings.warn(f\"A NumPy version >={np_minversion} and <{np_maxversion}\"\n"
     ]
    }
   ],
   "source": [
    "import tensorflow as tf\n",
    "from tensorflow.keras import datasets,layers,models\n",
    "import matplotlib.pyplot as plt"
   ]
  },
  {
   "cell_type": "markdown",
   "id": "1a4d4941",
   "metadata": {
    "papermill": {
     "duration": 0.007198,
     "end_time": "2024-01-28T21:50:34.827105",
     "exception": false,
     "start_time": "2024-01-28T21:50:34.819907",
     "status": "completed"
    },
    "tags": []
   },
   "source": [
    "# LOAD THE DATASET FROM KERAS LIBRARY"
   ]
  },
  {
   "cell_type": "code",
   "execution_count": 3,
   "id": "aa0a47db",
   "metadata": {
    "execution": {
     "iopub.execute_input": "2024-01-28T21:50:34.843245Z",
     "iopub.status.busy": "2024-01-28T21:50:34.842684Z",
     "iopub.status.idle": "2024-01-28T21:50:42.384387Z",
     "shell.execute_reply": "2024-01-28T21:50:42.383369Z"
    },
    "papermill": {
     "duration": 7.552185,
     "end_time": "2024-01-28T21:50:42.386661",
     "exception": false,
     "start_time": "2024-01-28T21:50:34.834476",
     "status": "completed"
    },
    "tags": []
   },
   "outputs": [
    {
     "name": "stdout",
     "output_type": "stream",
     "text": [
      "Downloading data from https://www.cs.toronto.edu/~kriz/cifar-10-python.tar.gz\n",
      "170498071/170498071 [==============================] - 5s 0us/step\n"
     ]
    }
   ],
   "source": [
    "(X_train,y_train),(X_test,y_test)=datasets.cifar10.load_data()"
   ]
  },
  {
   "cell_type": "markdown",
   "id": "4a7781b9",
   "metadata": {
    "papermill": {
     "duration": 0.01491,
     "end_time": "2024-01-28T21:50:42.416621",
     "exception": false,
     "start_time": "2024-01-28T21:50:42.401711",
     "status": "completed"
    },
    "tags": []
   },
   "source": [
    "**Plot SOME IMAGES**"
   ]
  },
  {
   "cell_type": "code",
   "execution_count": 4,
   "id": "4aa330ff",
   "metadata": {
    "execution": {
     "iopub.execute_input": "2024-01-28T21:50:42.450116Z",
     "iopub.status.busy": "2024-01-28T21:50:42.449291Z",
     "iopub.status.idle": "2024-01-28T21:50:42.677102Z",
     "shell.execute_reply": "2024-01-28T21:50:42.676099Z"
    },
    "papermill": {
     "duration": 0.246319,
     "end_time": "2024-01-28T21:50:42.679207",
     "exception": false,
     "start_time": "2024-01-28T21:50:42.432888",
     "status": "completed"
    },
    "tags": []
   },
   "outputs": [
    {
     "data": {
      "text/plain": [
       "<matplotlib.image.AxesImage at 0x7febf6ae5030>"
      ]
     },
     "execution_count": 4,
     "metadata": {},
     "output_type": "execute_result"
    },
    {
     "data": {
      "image/png": "[encoded data removed]",
      "text/plain": [
       "<Figure size 1500x200 with 1 Axes>"
      ]
     },
     "metadata": {},
     "output_type": "display_data"
    }
   ],
   "source": [
    "plt.figure(figsize=(15,2))\n",
    "plt.imshow(X_train[0])"
   ]
  },
  {
   "cell_type": "code",
   "execution_count": 5,
   "id": "29369cab",
   "metadata": {
    "execution": {
     "iopub.execute_input": "2024-01-28T21:50:42.711138Z",
     "iopub.status.busy": "2024-01-28T21:50:42.710528Z",
     "iopub.status.idle": "2024-01-28T21:50:42.971879Z",
     "shell.execute_reply": "2024-01-28T21:50:42.971011Z"
    },
    "papermill": {
     "duration": 0.279313,
     "end_time": "2024-01-28T21:50:42.973948",
     "exception": false,
     "start_time": "2024-01-28T21:50:42.694635",
     "status": "completed"
    },
    "tags": []
   },
   "outputs": [
    {
     "data": {
      "text/plain": [
       "<matplotlib.image.AxesImage at 0x7febf6cc75b0>"
      ]
     },
     "execution_count": 5,
     "metadata": {},
     "output_type": "execute_result"
    },
    {
     "data": {
      "image/png": "[encoded data removed]",
      "text/plain": [
       "<Figure size 640x480 with 1 Axes>"
      ]
     },
     "metadata": {},
     "output_type": "display_data"
    }
   ],
   "source": [
    "plt.imshow(X_train[1])"
   ]
  },
  {
   "cell_type": "code",
   "execution_count": 6,
   "id": "29a8a2ec",
   "metadata": {
    "execution": {
     "iopub.execute_input": "2024-01-28T21:50:43.006021Z",
     "iopub.status.busy": "2024-01-28T21:50:43.005704Z",
     "iopub.status.idle": "2024-01-28T21:50:43.009847Z",
     "shell.execute_reply": "2024-01-28T21:50:43.009045Z"
    },
    "papermill": {
     "duration": 0.022149,
     "end_time": "2024-01-28T21:50:43.011733",
     "exception": false,
     "start_time": "2024-01-28T21:50:42.989584",
     "status": "completed"
    },
    "tags": []
   },
   "outputs": [],
   "source": [
    "y_train=y_train.reshape(-1,)"
   ]
  },
  {
   "cell_type": "code",
   "execution_count": 7,
   "id": "81af3bc9",
   "metadata": {
    "execution": {
     "iopub.execute_input": "2024-01-28T21:50:43.043510Z",
     "iopub.status.busy": "2024-01-28T21:50:43.043225Z",
     "iopub.status.idle": "2024-01-28T21:50:43.049203Z",
     "shell.execute_reply": "2024-01-28T21:50:43.048295Z"
    },
    "papermill": {
     "duration": 0.023771,
     "end_time": "2024-01-28T21:50:43.051139",
     "exception": false,
     "start_time": "2024-01-28T21:50:43.027368",
     "status": "completed"
    },
    "tags": []
   },
   "outputs": [
    {
     "data": {
      "text/plain": [
       "array([6, 9, 9, ..., 9, 1, 1], dtype=uint8)"
      ]
     },
     "execution_count": 7,
     "metadata": {},
     "output_type": "execute_result"
    }
   ],
   "source": [
    "y_train"
   ]
  },
  {
   "cell_type": "markdown",
   "id": "f29f9c39",
   "metadata": {
    "papermill": {
     "duration": 0.015415,
     "end_time": "2024-01-28T21:50:43.082137",
     "exception": false,
     "start_time": "2024-01-28T21:50:43.066722",
     "status": "completed"
    },
    "tags": []
   },
   "source": [
    "**ARRAY OF CLASSES**"
   ]
  },
  {
   "cell_type": "code",
   "execution_count": 8,
   "id": "d1082d3c",
   "metadata": {
    "execution": {
     "iopub.execute_input": "2024-01-28T21:50:43.114338Z",
     "iopub.status.busy": "2024-01-28T21:50:43.114054Z",
     "iopub.status.idle": "2024-01-28T21:50:43.118652Z",
     "shell.execute_reply": "2024-01-28T21:50:43.117906Z"
    },
    "papermill": {
     "duration": 0.02288,
     "end_time": "2024-01-28T21:50:43.120509",
     "exception": false,
     "start_time": "2024-01-28T21:50:43.097629",
     "status": "completed"
    },
    "tags": []
   },
   "outputs": [],
   "source": [
    "classes=[\"airplane\",\"automobile\",\"bird\",\"cat\",\"deer\",\"dog\",\"frog\",\"horse\",\"ship\",\"truck\"]"
   ]
  },
  {
   "cell_type": "markdown",
   "id": "74d57017",
   "metadata": {
    "papermill": {
     "duration": 0.056508,
     "end_time": "2024-01-28T21:50:43.192705",
     "exception": false,
     "start_time": "2024-01-28T21:50:43.136197",
     "status": "completed"
    },
    "tags": []
   },
   "source": [
    "**FUNCTION TO PLOT IMAGE WITH ITS CLASS**"
   ]
  },
  {
   "cell_type": "code",
   "execution_count": 9,
   "id": "4494b56a",
   "metadata": {
    "execution": {
     "iopub.execute_input": "2024-01-28T21:50:43.225797Z",
     "iopub.status.busy": "2024-01-28T21:50:43.225073Z",
     "iopub.status.idle": "2024-01-28T21:50:43.229913Z",
     "shell.execute_reply": "2024-01-28T21:50:43.229116Z"
    },
    "papermill": {
     "duration": 0.02327,
     "end_time": "2024-01-28T21:50:43.231801",
     "exception": false,
     "start_time": "2024-01-28T21:50:43.208531",
     "status": "completed"
    },
    "tags": []
   },
   "outputs": [],
   "source": [
    "def plot_sample(X,y,index):\n",
    "    plt.figure(figsize=(15,2))\n",
    "    plt.imshow(X[index])\n",
    "    plt.xlabel(classes[y[index]])"
   ]
  },
  {
   "cell_type": "code",
   "execution_count": 10,
   "id": "e36a832c",
   "metadata": {
    "execution": {
     "iopub.execute_input": "2024-01-28T21:50:43.263300Z",
     "iopub.status.busy": "2024-01-28T21:50:43.263050Z",
     "iopub.status.idle": "2024-01-28T21:50:43.393569Z",
     "shell.execute_reply": "2024-01-28T21:50:43.392692Z"
    },
    "papermill": {
     "duration": 0.14866,
     "end_time": "2024-01-28T21:50:43.395734",
     "exception": false,
     "start_time": "2024-01-28T21:50:43.247074",
     "status": "completed"
    },
    "tags": []
   },
   "outputs": [
    {
     "data": {
      "image/png": "[encoded data removed]",
      "text/plain": [
       "<Figure size 1500x200 with 1 Axes>"
      ]
     },
     "metadata": {},
     "output_type": "display_data"
    }
   ],
   "source": [
    "plot_sample(X_train,y_train,6)"
   ]
  },
  {
   "cell_type": "code",
   "execution_count": 11,
   "id": "79092478",
   "metadata": {
    "execution": {
     "iopub.execute_input": "2024-01-28T21:50:43.428837Z",
     "iopub.status.busy": "2024-01-28T21:50:43.428563Z",
     "iopub.status.idle": "2024-01-28T21:50:43.905401Z",
     "shell.execute_reply": "2024-01-28T21:50:43.904305Z"
    },
    "papermill": {
     "duration": 0.49617,
     "end_time": "2024-01-28T21:50:43.907882",
     "exception": false,
     "start_time": "2024-01-28T21:50:43.411712",
     "status": "completed"
    },
    "tags": []
   },
   "outputs": [],
   "source": [
    "X_train= X_train/255\n",
    "X_test= X_test/255"
   ]
  },
  {
   "cell_type": "markdown",
   "id": "675982c2",
   "metadata": {
    "papermill": {
     "duration": 0.015638,
     "end_time": "2024-01-28T21:50:43.939902",
     "exception": false,
     "start_time": "2024-01-28T21:50:43.924264",
     "status": "completed"
    },
    "tags": []
   },
   "source": [
    "**CNN MODEL**"
   ]
  },
  {
   "cell_type": "code",
   "execution_count": 12,
   "id": "a9d509d8",
   "metadata": {
    "execution": {
     "iopub.execute_input": "2024-01-28T21:50:43.972459Z",
     "iopub.status.busy": "2024-01-28T21:50:43.972141Z",
     "iopub.status.idle": "2024-01-28T21:50:45.241273Z",
     "shell.execute_reply": "2024-01-28T21:50:45.240272Z"
    },
    "papermill": {
     "duration": 1.288092,
     "end_time": "2024-01-28T21:50:45.243675",
     "exception": false,
     "start_time": "2024-01-28T21:50:43.955583",
     "status": "completed"
    },
    "tags": []
   },
   "outputs": [],
   "source": [
    "model = models.Sequential([\n",
    "    layers.Conv2D(filters=32, kernel_size=(3, 3), activation='relu', input_shape=(32, 32, 3)),\n",
    "    layers.MaxPooling2D((2, 2)),\n",
    "    \n",
    "    layers.Conv2D(filters=64, kernel_size=(3, 3), activation='relu'),\n",
    "    layers.MaxPooling2D((2, 2)),\n",
    "    \n",
    "    layers.Flatten(),\n",
    "    layers.Dense(64, activation='relu'),\n",
    "    layers.Dense(10, activation='softmax')\n",
    "])"
   ]
  },
  {
   "cell_type": "code",
   "execution_count": 13,
   "id": "89832022",
   "metadata": {
    "execution": {
     "iopub.execute_input": "2024-01-28T21:50:45.276674Z",
     "iopub.status.busy": "2024-01-28T21:50:45.276375Z",
     "iopub.status.idle": "2024-01-28T21:50:45.291336Z",
     "shell.execute_reply": "2024-01-28T21:50:45.290619Z"
    },
    "papermill": {
     "duration": 0.0333,
     "end_time": "2024-01-28T21:50:45.293154",
     "exception": false,
     "start_time": "2024-01-28T21:50:45.259854",
     "status": "completed"
    },
    "tags": []
   },
   "outputs": [],
   "source": [
    "model.compile(optimizer='adam',\n",
    "              loss='sparse_categorical_crossentropy',\n",
    "              metrics=['accuracy'])"
   ]
  },
  {
   "cell_type": "code",
   "execution_count": 14,
   "id": "665a5ec8",
   "metadata": {
    "execution": {
     "iopub.execute_input": "2024-01-28T21:50:45.325726Z",
     "iopub.status.busy": "2024-01-28T21:50:45.325469Z",
     "iopub.status.idle": "2024-01-28T21:51:45.614995Z",
     "shell.execute_reply": "2024-01-28T21:51:45.614041Z"
    },
    "papermill": {
     "duration": 60.308487,
     "end_time": "2024-01-28T21:51:45.617151",
     "exception": false,
     "start_time": "2024-01-28T21:50:45.308664",
     "status": "completed"
    },
    "tags": []
   },
   "outputs": [
    {
     "name": "stdout",
     "output_type": "stream",
     "text": [
      "Epoch 1/10\n",
      "1563/1563 [==============================] - 10s 4ms/step - loss: 1.4790 - accuracy: 0.4690\n",
      "Epoch 2/10\n",
      "1563/1563 [==============================] - 5s 3ms/step - loss: 1.1402 - accuracy: 0.5991\n",
      "Epoch 3/10\n",
      "1563/1563 [==============================] - 5s 3ms/step - loss: 1.0127 - accuracy: 0.6476\n",
      "Epoch 4/10\n",
      "1563/1563 [==============================] - 5s 3ms/step - loss: 0.9351 - accuracy: 0.6756\n",
      "Epoch 5/10\n",
      "1563/1563 [==============================] - 5s 3ms/step - loss: 0.8750 - accuracy: 0.6971\n",
      "Epoch 6/10\n",
      "1563/1563 [==============================] - 6s 4ms/step - loss: 0.8169 - accuracy: 0.7176\n",
      "Epoch 7/10\n",
      "1563/1563 [==============================] - 5s 4ms/step - loss: 0.7707 - accuracy: 0.7323\n",
      "Epoch 8/10\n",
      "1563/1563 [==============================] - 5s 3ms/step - loss: 0.7305 - accuracy: 0.7449\n",
      "Epoch 9/10\n",
      "1563/1563 [==============================] - 5s 3ms/step - loss: 0.6926 - accuracy: 0.7597\n",
      "Epoch 10/10\n",
      "1563/1563 [==============================] - 5s 3ms/step - loss: 0.6548 - accuracy: 0.7729\n"
     ]
    },
    {
     "data": {
      "text/plain": [
       "<keras.src.callbacks.History at 0x7febf6daa620>"
      ]
     },
     "execution_count": 14,
     "metadata": {},
     "output_type": "execute_result"
    }
   ],
   "source": [
    "model.fit(X_train, y_train, epochs=10)"
   ]
  },
  {
   "cell_type": "code",
   "execution_count": 15,
   "id": "d4cbc727",
   "metadata": {
    "execution": {
     "iopub.execute_input": "2024-01-28T21:51:45.822649Z",
     "iopub.status.busy": "2024-01-28T21:51:45.822251Z",
     "iopub.status.idle": "2024-01-28T21:51:47.245372Z",
     "shell.execute_reply": "2024-01-28T21:51:47.244488Z"
    },
    "papermill": {
     "duration": 1.528069,
     "end_time": "2024-01-28T21:51:47.247396",
     "exception": false,
     "start_time": "2024-01-28T21:51:45.719327",
     "status": "completed"
    },
    "tags": []
   },
   "outputs": [
    {
     "name": "stdout",
     "output_type": "stream",
     "text": [
      "313/313 [==============================] - 1s 2ms/step - loss: 0.9208 - accuracy: 0.6989\n"
     ]
    },
    {
     "data": {
      "text/plain": [
       "[0.9208433628082275, 0.6988999843597412]"
      ]
     },
     "execution_count": 15,
     "metadata": {},
     "output_type": "execute_result"
    }
   ],
   "source": [
    "model.evaluate(X_test,y_test)"
   ]
  },
  {
   "cell_type": "markdown",
   "id": "09a0f82a",
   "metadata": {
    "papermill": {
     "duration": 0.10505,
     "end_time": "2024-01-28T21:51:47.453039",
     "exception": false,
     "start_time": "2024-01-28T21:51:47.347989",
     "status": "completed"
    },
    "tags": []
   },
   "source": [
    "**PREDICTIONS**"
   ]
  },
  {
   "cell_type": "code",
   "execution_count": 16,
   "id": "4723e11b",
   "metadata": {
    "execution": {
     "iopub.execute_input": "2024-01-28T21:51:47.660764Z",
     "iopub.status.busy": "2024-01-28T21:51:47.660432Z",
     "iopub.status.idle": "2024-01-28T21:51:48.949933Z",
     "shell.execute_reply": "2024-01-28T21:51:48.948925Z"
    },
    "papermill": {
     "duration": 1.39625,
     "end_time": "2024-01-28T21:51:48.952383",
     "exception": false,
     "start_time": "2024-01-28T21:51:47.556133",
     "status": "completed"
    },
    "tags": []
   },
   "outputs": [
    {
     "name": "stdout",
     "output_type": "stream",
     "text": [
      "313/313 [==============================] - 1s 2ms/step\n"
     ]
    },
    {
     "data": {
      "text/plain": [
       "array([[8.89571616e-04, 3.90757896e-06, 6.60435820e-04, 9.48572397e-01,\n",
       "        1.17802795e-03, 1.57655682e-02, 6.88103260e-04, 1.58301445e-05,\n",
       "        3.20239402e-02, 2.02395851e-04],\n",
       "       [2.11339793e-03, 6.26576319e-02, 7.68128666e-06, 2.73764317e-06,\n",
       "        6.55581630e-07, 4.69084362e-08, 4.17868478e-08, 1.86585328e-06,\n",
       "        9.35128212e-01, 8.77597413e-05],\n",
       "       [3.53196673e-02, 3.67192000e-01, 1.98798487e-03, 3.91453542e-02,\n",
       "        1.04138721e-02, 3.13898665e-03, 3.92488786e-04, 2.23027337e-02,\n",
       "        3.99987489e-01, 1.20119415e-01],\n",
       "       [9.14917350e-01, 3.51499277e-03, 2.89530978e-02, 1.96627737e-03,\n",
       "        8.75366293e-03, 9.80804980e-05, 1.05951037e-02, 1.24254773e-04,\n",
       "        3.10233664e-02, 5.38087079e-05],\n",
       "       [1.15139915e-06, 1.26929681e-05, 1.33409873e-01, 4.75517213e-02,\n",
       "        3.79537195e-01, 1.40212709e-02, 4.25001711e-01, 4.38348012e-04,\n",
       "        2.50309458e-05, 9.73583724e-07]], dtype=float32)"
      ]
     },
     "execution_count": 16,
     "metadata": {},
     "output_type": "execute_result"
    }
   ],
   "source": [
    "y_pred = model.predict(X_test)\n",
    "y_pred[:5]"
   ]
  },
  {
   "cell_type": "markdown",
   "id": "85a9dba7",
   "metadata": {
    "papermill": {
     "duration": 0.099835,
     "end_time": "2024-01-28T21:51:49.159323",
     "exception": false,
     "start_time": "2024-01-28T21:51:49.059488",
     "status": "completed"
    },
    "tags": []
   },
   "source": [
    "**PREDICTED**"
   ]
  },
  {
   "cell_type": "code",
   "execution_count": 17,
   "id": "80ab07b7",
   "metadata": {
    "execution": {
     "iopub.execute_input": "2024-01-28T21:51:49.360169Z",
     "iopub.status.busy": "2024-01-28T21:51:49.359798Z",
     "iopub.status.idle": "2024-01-28T21:51:49.406795Z",
     "shell.execute_reply": "2024-01-28T21:51:49.405920Z"
    },
    "papermill": {
     "duration": 0.15033,
     "end_time": "2024-01-28T21:51:49.408873",
     "exception": false,
     "start_time": "2024-01-28T21:51:49.258543",
     "status": "completed"
    },
    "tags": []
   },
   "outputs": [
    {
     "data": {
      "text/plain": [
       "[3, 8, 8, 0, 6]"
      ]
     },
     "execution_count": 17,
     "metadata": {},
     "output_type": "execute_result"
    }
   ],
   "source": [
    "y_classes = [np.argmax(element) for element in y_pred]\n",
    "y_classes[:5]\n"
   ]
  },
  {
   "cell_type": "markdown",
   "id": "2d0b3dab",
   "metadata": {
    "papermill": {
     "duration": 0.099917,
     "end_time": "2024-01-28T21:51:49.609101",
     "exception": false,
     "start_time": "2024-01-28T21:51:49.509184",
     "status": "completed"
    },
    "tags": []
   },
   "source": [
    "**ACTUAL**"
   ]
  },
  {
   "cell_type": "code",
   "execution_count": 18,
   "id": "8c90a2d4",
   "metadata": {
    "execution": {
     "iopub.execute_input": "2024-01-28T21:51:49.811266Z",
     "iopub.status.busy": "2024-01-28T21:51:49.810878Z",
     "iopub.status.idle": "2024-01-28T21:51:49.817484Z",
     "shell.execute_reply": "2024-01-28T21:51:49.816456Z"
    },
    "papermill": {
     "duration": 0.110754,
     "end_time": "2024-01-28T21:51:49.819426",
     "exception": false,
     "start_time": "2024-01-28T21:51:49.708672",
     "status": "completed"
    },
    "tags": []
   },
   "outputs": [
    {
     "data": {
      "text/plain": [
       "array([3, 8, 8, 0, 6], dtype=uint8)"
      ]
     },
     "execution_count": 18,
     "metadata": {},
     "output_type": "execute_result"
    }
   ],
   "source": [
    "y_test=y_test.reshape(-1,)\n",
    "y_test[:5]"
   ]
  },
  {
   "cell_type": "code",
   "execution_count": 19,
   "id": "2c0f5e95",
   "metadata": {
    "execution": {
     "iopub.execute_input": "2024-01-28T21:51:50.021817Z",
     "iopub.status.busy": "2024-01-28T21:51:50.021492Z",
     "iopub.status.idle": "2024-01-28T21:51:50.166380Z",
     "shell.execute_reply": "2024-01-28T21:51:50.165455Z"
    },
    "papermill": {
     "duration": 0.249174,
     "end_time": "2024-01-28T21:51:50.170032",
     "exception": false,
     "start_time": "2024-01-28T21:51:49.920858",
     "status": "completed"
    },
    "tags": []
   },
   "outputs": [
    {
     "data": {
      "image/png": "[encoded data removed]",
      "text/plain": [
       "<Figure size 1500x200 with 1 Axes>"
      ]
     },
     "metadata": {},
     "output_type": "display_data"
    }
   ],
   "source": [
    "plot_sample(X_test, y_test,4)"
   ]
  },
  {
   "cell_type": "code",
   "execution_count": 20,
   "id": "25c36c04",
   "metadata": {
    "execution": {
     "iopub.execute_input": "2024-01-28T21:51:50.392259Z",
     "iopub.status.busy": "2024-01-28T21:51:50.391921Z",
     "iopub.status.idle": "2024-01-28T21:51:50.397693Z",
     "shell.execute_reply": "2024-01-28T21:51:50.396835Z"
    },
    "papermill": {
     "duration": 0.109951,
     "end_time": "2024-01-28T21:51:50.399524",
     "exception": false,
     "start_time": "2024-01-28T21:51:50.289573",
     "status": "completed"
    },
    "tags": []
   },
   "outputs": [
    {
     "data": {
      "text/plain": [
       "'frog'"
      ]
     },
     "execution_count": 20,
     "metadata": {},
     "output_type": "execute_result"
    }
   ],
   "source": [
    "classes[y_classes[4]]\n"
   ]
  },
  {
   "cell_type": "code",
   "execution_count": null,
   "id": "d41fec1f",
   "metadata": {
    "papermill": {
     "duration": 0.101792,
     "end_time": "2024-01-28T21:51:50.603159",
     "exception": false,
     "start_time": "2024-01-28T21:51:50.501367",
     "status": "completed"
    },
    "tags": []
   },
   "outputs": [],
   "source": []
  }
 ],
 "metadata": {
  "kaggle": {
   "accelerator": "nvidiaTeslaT4",
   "dataSources": [],
   "dockerImageVersionId": 30636,
   "isGpuEnabled": true,
   "isInternetEnabled": true,
   "language": "python",
   "sourceType": "notebook"
  },
  "kernelspec": {
   "display_name": "Python 3",
   "language": "python",
   "name": "python3"
  },
  "language_info": {
   "codemirror_mode": {
    "name": "ipython",
    "version": 3
   },
   "file_extension": ".py",
   "mimetype": "text/x-python",
   "name": "python",
   "nbconvert_exporter": "python",
   "pygments_lexer": "ipython3",
   "version": "3.10.12"
  },
  "papermill": {
   "default_parameters": {},
   "duration": 95.819814,
   "end_time": "2024-01-28T21:51:53.583733",
   "environment_variables": {},
   "exception": null,
   "input_path": "__notebook__.ipynb",
   "output_path": "__notebook__.ipynb",
   "parameters": {},
   "start_time": "2024-01-28T21:50:17.763919",
   "version": "2.4.0"
  }
 },
 "nbformat": 4,
 "nbformat_minor": 5
}
