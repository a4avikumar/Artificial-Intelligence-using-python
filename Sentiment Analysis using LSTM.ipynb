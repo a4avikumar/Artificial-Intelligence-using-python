{
 "cells": [
  {
   "cell_type": "code",
   "execution_count": 1,
   "id": "4e877727",
   "metadata": {
    "_cell_guid": "b1076dfc-b9ad-4769-8c92-a6c4dae69d19",
    "_uuid": "8f2839f25d086af736a60e9eeb907d3b93b6e0e5",
    "execution": {
     "iopub.execute_input": "2024-01-28T16:38:31.332428Z",
     "iopub.status.busy": "2024-01-28T16:38:31.332006Z",
     "iopub.status.idle": "2024-01-28T16:38:32.027372Z",
     "shell.execute_reply": "2024-01-28T16:38:32.026364Z"
    },
    "papermill": {
     "duration": 0.703553,
     "end_time": "2024-01-28T16:38:32.029498",
     "exception": false,
     "start_time": "2024-01-28T16:38:31.325945",
     "status": "completed"
    },
    "tags": []
   },
   "outputs": [
    {
     "name": "stdout",
     "output_type": "stream",
     "text": [
      "/kaggle/input/dataset1/IMDB Dataset.csv\n"
     ]
    }
   ],
   "source": [
    "# This Python 3 environment comes with many helpful analytics libraries installed\n",
    "# It is defined by the kaggle/python Docker image: https://github.com/kaggle/docker-python\n",
    "# For example, here's several helpful packages to load\n",
    "\n",
    "import numpy as np # linear algebra\n",
    "import pandas as pd # data processing, CSV file I/O (e.g. pd.read_csv)\n",
    "\n",
    "# Input data files are available in the read-only \"../input/\" directory\n",
    "# For example, running this (by clicking run or pressing Shift+Enter) will list all files under the input directory\n",
    "\n",
    "import os\n",
    "for dirname, _, filenames in os.walk('/kaggle/input'):\n",
    "    for filename in filenames:\n",
    "        print(os.path.join(dirname, filename))\n",
    "\n",
    "# You can write up to 20GB to the current directory (/kaggle/working/) that gets preserved as output when you create a version using \"Save & Run All\" \n",
    "# You can also write temporary files to /kaggle/temp/, but they won't be saved outside of the current session"
   ]
  },
  {
   "cell_type": "code",
   "execution_count": 2,
   "id": "6f0af3af",
   "metadata": {
    "execution": {
     "iopub.execute_input": "2024-01-28T16:38:32.039111Z",
     "iopub.status.busy": "2024-01-28T16:38:32.038733Z",
     "iopub.status.idle": "2024-01-28T16:38:43.561988Z",
     "shell.execute_reply": "2024-01-28T16:38:43.561033Z"
    },
    "papermill": {
     "duration": 11.530523,
     "end_time": "2024-01-28T16:38:43.564377",
     "exception": false,
     "start_time": "2024-01-28T16:38:32.033854",
     "status": "completed"
    },
    "tags": []
   },
   "outputs": [
    {
     "name": "stderr",
     "output_type": "stream",
     "text": [
      "/opt/conda/lib/python3.10/site-packages/scipy/__init__.py:146: UserWarning: A NumPy version >=1.16.5 and <1.23.0 is required for this version of SciPy (detected version 1.24.3\n",
      "  warnings.warn(f\"A NumPy version >={np_minversion} and <{np_maxversion}\"\n"
     ]
    }
   ],
   "source": [
    "from keras.datasets import imdb\n",
    "import keras\n",
    "from keras.preprocessing.text import Tokenizer\n",
    "from keras.utils import pad_sequences\n",
    "from keras import Sequential\n",
    "from sklearn.metrics import accuracy_score\n",
    "from keras.layers import Dense,SimpleRNN,Embedding,Flatten,Bidirectional,LSTM"
   ]
  },
  {
   "cell_type": "code",
   "execution_count": 3,
   "id": "fb1388b3",
   "metadata": {
    "execution": {
     "iopub.execute_input": "2024-01-28T16:38:43.574191Z",
     "iopub.status.busy": "2024-01-28T16:38:43.573612Z",
     "iopub.status.idle": "2024-01-28T16:38:49.200543Z",
     "shell.execute_reply": "2024-01-28T16:38:49.199759Z"
    },
    "papermill": {
     "duration": 5.634425,
     "end_time": "2024-01-28T16:38:49.203083",
     "exception": false,
     "start_time": "2024-01-28T16:38:43.568658",
     "status": "completed"
    },
    "tags": []
   },
   "outputs": [
    {
     "name": "stdout",
     "output_type": "stream",
     "text": [
      "Downloading data from https://storage.googleapis.com/tensorflow/tf-keras-datasets/imdb.npz\n",
      "17464789/17464789 [==============================] - 0s 0us/step\n"
     ]
    }
   ],
   "source": [
    "(X_train,y_train),(X_test,y_test) = imdb.load_data()"
   ]
  },
  {
   "cell_type": "code",
   "execution_count": 4,
   "id": "b5c151a6",
   "metadata": {
    "execution": {
     "iopub.execute_input": "2024-01-28T16:38:49.214303Z",
     "iopub.status.busy": "2024-01-28T16:38:49.213988Z",
     "iopub.status.idle": "2024-01-28T16:38:50.100829Z",
     "shell.execute_reply": "2024-01-28T16:38:50.099978Z"
    },
    "papermill": {
     "duration": 0.895136,
     "end_time": "2024-01-28T16:38:50.103280",
     "exception": false,
     "start_time": "2024-01-28T16:38:49.208144",
     "status": "completed"
    },
    "tags": []
   },
   "outputs": [],
   "source": [
    "X_train = pad_sequences(X_train,padding='post',maxlen=200)\n",
    "X_test = pad_sequences(X_test,padding='post',maxlen=200)"
   ]
  },
  {
   "cell_type": "code",
   "execution_count": 5,
   "id": "c0fd0e03",
   "metadata": {
    "execution": {
     "iopub.execute_input": "2024-01-28T16:38:50.113766Z",
     "iopub.status.busy": "2024-01-28T16:38:50.113436Z",
     "iopub.status.idle": "2024-01-28T16:38:51.748995Z",
     "shell.execute_reply": "2024-01-28T16:38:51.748033Z"
    },
    "papermill": {
     "duration": 1.646757,
     "end_time": "2024-01-28T16:38:51.754794",
     "exception": false,
     "start_time": "2024-01-28T16:38:50.108037",
     "status": "completed"
    },
    "tags": []
   },
   "outputs": [
    {
     "name": "stdout",
     "output_type": "stream",
     "text": [
      "Model: \"sequential\"\n",
      "_________________________________________________________________\n",
      " Layer (type)                Output Shape              Param #   \n",
      "=================================================================\n",
      " embedding (Embedding)       (None, 200, 100)          300000    \n",
      "                                                                 \n",
      " bidirectional (Bidirection  (None, 128)               84480     \n",
      " al)                                                             \n",
      "                                                                 \n",
      " dense (Dense)               (None, 24)                3096      \n",
      "                                                                 \n",
      " dense_1 (Dense)             (None, 1)                 25        \n",
      "                                                                 \n",
      "=================================================================\n",
      "Total params: 387601 (1.48 MB)\n",
      "Trainable params: 387601 (1.48 MB)\n",
      "Non-trainable params: 0 (0.00 Byte)\n",
      "_________________________________________________________________\n"
     ]
    }
   ],
   "source": [
    "model = Sequential([\n",
    "    keras.layers.Embedding(3000, 100, input_length=200),\n",
    "    keras.layers.Bidirectional(keras.layers.LSTM(64)),\n",
    "    keras.layers.Dense(24, activation='relu'),\n",
    "    keras.layers.Dense(1, activation='sigmoid')\n",
    "])\n",
    "# compile model\n",
    "model.compile(loss='binary_crossentropy',\n",
    "              optimizer='adam',\n",
    "              metrics=['accuracy'])\n",
    "# model summary\n",
    "model.summary()"
   ]
  },
  {
   "cell_type": "code",
   "execution_count": 6,
   "id": "f5123569",
   "metadata": {
    "execution": {
     "iopub.execute_input": "2024-01-28T16:38:51.768265Z",
     "iopub.status.busy": "2024-01-28T16:38:51.767952Z",
     "iopub.status.idle": "2024-01-28T16:42:29.163869Z",
     "shell.execute_reply": "2024-01-28T16:42:29.162761Z"
    },
    "papermill": {
     "duration": 217.405324,
     "end_time": "2024-01-28T16:42:29.166152",
     "exception": false,
     "start_time": "2024-01-28T16:38:51.760828",
     "status": "completed"
    },
    "tags": []
   },
   "outputs": [
    {
     "name": "stdout",
     "output_type": "stream",
     "text": [
      "Epoch 1/10\n",
      "704/704 [==============================] - 83s 110ms/step - loss: 0.4885 - accuracy: 0.7571 - val_loss: 0.4472 - val_accuracy: 0.7960\n",
      "Epoch 2/10\n",
      "704/704 [==============================] - 26s 37ms/step - loss: 0.3047 - accuracy: 0.8751 - val_loss: 0.3466 - val_accuracy: 0.8596\n",
      "Epoch 3/10\n",
      "704/704 [==============================] - 17s 24ms/step - loss: 0.2527 - accuracy: 0.9003 - val_loss: 0.3134 - val_accuracy: 0.8716\n",
      "Epoch 4/10\n",
      "704/704 [==============================] - 16s 22ms/step - loss: 0.2170 - accuracy: 0.9165 - val_loss: 0.3390 - val_accuracy: 0.8656\n",
      "Epoch 5/10\n",
      "704/704 [==============================] - 14s 20ms/step - loss: 0.1874 - accuracy: 0.9308 - val_loss: 0.3724 - val_accuracy: 0.8608\n",
      "Epoch 6/10\n",
      "704/704 [==============================] - 14s 19ms/step - loss: 0.1563 - accuracy: 0.9407 - val_loss: 0.4671 - val_accuracy: 0.8368\n",
      "Epoch 7/10\n",
      "704/704 [==============================] - 12s 18ms/step - loss: 0.1236 - accuracy: 0.9569 - val_loss: 0.4247 - val_accuracy: 0.8652\n",
      "Epoch 8/10\n",
      "704/704 [==============================] - 13s 18ms/step - loss: 0.1058 - accuracy: 0.9625 - val_loss: 0.4571 - val_accuracy: 0.8636\n",
      "Epoch 9/10\n",
      "704/704 [==============================] - 11s 16ms/step - loss: 0.0846 - accuracy: 0.9710 - val_loss: 0.5075 - val_accuracy: 0.8472\n",
      "Epoch 10/10\n",
      "704/704 [==============================] - 12s 17ms/step - loss: 0.0686 - accuracy: 0.9773 - val_loss: 0.5646 - val_accuracy: 0.8576\n"
     ]
    }
   ],
   "source": [
    "num_epochs = 10\n",
    "history = model.fit(X_train,y_train, \n",
    "                    epochs=num_epochs, verbose=1, \n",
    "                    validation_split=0.1)"
   ]
  },
  {
   "cell_type": "code",
   "execution_count": 7,
   "id": "32017020",
   "metadata": {
    "execution": {
     "iopub.execute_input": "2024-01-28T16:42:29.512654Z",
     "iopub.status.busy": "2024-01-28T16:42:29.511822Z",
     "iopub.status.idle": "2024-01-28T16:42:35.549301Z",
     "shell.execute_reply": "2024-01-28T16:42:35.548222Z"
    },
    "papermill": {
     "duration": 6.211218,
     "end_time": "2024-01-28T16:42:35.551330",
     "exception": false,
     "start_time": "2024-01-28T16:42:29.340112",
     "status": "completed"
    },
    "tags": []
   },
   "outputs": [
    {
     "name": "stdout",
     "output_type": "stream",
     "text": [
      "782/782 [==============================] - 5s 6ms/step\n",
      "Accuracy of prediction on test set :  0.85412\n"
     ]
    }
   ],
   "source": [
    "prediction = model.predict(X_test)\n",
    "# Get labels based on probability 1 if p>= 0.5 else 0\n",
    "pred_labels = []\n",
    "for i in prediction:\n",
    "    if i >= 0.5:\n",
    "        pred_labels.append(1)\n",
    "    else:\n",
    "        pred_labels.append(0)\n",
    "print(\"Accuracy of prediction on test set : \", accuracy_score(y_test,pred_labels))"
   ]
  },
  {
   "cell_type": "code",
   "execution_count": null,
   "id": "c6dbcd13",
   "metadata": {
    "papermill": {
     "duration": 0.174303,
     "end_time": "2024-01-28T16:42:35.902228",
     "exception": false,
     "start_time": "2024-01-28T16:42:35.727925",
     "status": "completed"
    },
    "tags": []
   },
   "outputs": [],
   "source": []
  },
  {
   "cell_type": "code",
   "execution_count": null,
   "id": "0010fbec",
   "metadata": {
    "papermill": {
     "duration": 0.181666,
     "end_time": "2024-01-28T16:42:36.259470",
     "exception": false,
     "start_time": "2024-01-28T16:42:36.077804",
     "status": "completed"
    },
    "tags": []
   },
   "outputs": [],
   "source": []
  },
  {
   "cell_type": "code",
   "execution_count": null,
   "id": "d7c6216d",
   "metadata": {
    "papermill": {
     "duration": 0.175302,
     "end_time": "2024-01-28T16:42:36.611100",
     "exception": false,
     "start_time": "2024-01-28T16:42:36.435798",
     "status": "completed"
    },
    "tags": []
   },
   "outputs": [],
   "source": []
  },
  {
   "cell_type": "code",
   "execution_count": null,
   "id": "341b9cb5",
   "metadata": {
    "papermill": {
     "duration": 0.176034,
     "end_time": "2024-01-28T16:42:36.961067",
     "exception": false,
     "start_time": "2024-01-28T16:42:36.785033",
     "status": "completed"
    },
    "tags": []
   },
   "outputs": [],
   "source": []
  },
  {
   "cell_type": "code",
   "execution_count": null,
   "id": "ce646ce2",
   "metadata": {
    "papermill": {
     "duration": 0.220983,
     "end_time": "2024-01-28T16:42:37.358677",
     "exception": false,
     "start_time": "2024-01-28T16:42:37.137694",
     "status": "completed"
    },
    "tags": []
   },
   "outputs": [],
   "source": []
  },
  {
   "cell_type": "code",
   "execution_count": null,
   "id": "58de1ca6",
   "metadata": {
    "papermill": {
     "duration": 0.178102,
     "end_time": "2024-01-28T16:42:37.712774",
     "exception": false,
     "start_time": "2024-01-28T16:42:37.534672",
     "status": "completed"
    },
    "tags": []
   },
   "outputs": [],
   "source": []
  },
  {
   "cell_type": "code",
   "execution_count": null,
   "id": "919caa66",
   "metadata": {
    "papermill": {
     "duration": 0.177634,
     "end_time": "2024-01-28T16:42:38.068544",
     "exception": false,
     "start_time": "2024-01-28T16:42:37.890910",
     "status": "completed"
    },
    "tags": []
   },
   "outputs": [],
   "source": []
  }
 ],
 "metadata": {
  "kaggle": {
   "accelerator": "nvidiaTeslaT4",
   "dataSources": [
    {
     "datasetId": 4366954,
     "sourceId": 7499446,
     "sourceType": "datasetVersion"
    }
   ],
   "dockerImageVersionId": 30636,
   "isGpuEnabled": true,
   "isInternetEnabled": true,
   "language": "python",
   "sourceType": "notebook"
  },
  "kernelspec": {
   "display_name": "Python 3",
   "language": "python",
   "name": "python3"
  },
  "language_info": {
   "codemirror_mode": {
    "name": "ipython",
    "version": 3
   },
   "file_extension": ".py",
   "mimetype": "text/x-python",
   "name": "python",
   "nbconvert_exporter": "python",
   "pygments_lexer": "ipython3",
   "version": "3.10.12"
  },
  "papermill": {
   "default_parameters": {},
   "duration": 252.58774,
   "end_time": "2024-01-28T16:42:40.628363",
   "environment_variables": {},
   "exception": null,
   "input_path": "__notebook__.ipynb",
   "output_path": "__notebook__.ipynb",
   "parameters": {},
   "start_time": "2024-01-28T16:38:28.040623",
   "version": "2.4.0"
  }
 },
 "nbformat": 4,
 "nbformat_minor": 5
}
