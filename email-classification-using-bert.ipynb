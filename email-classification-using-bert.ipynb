{
 "cells": [
  {
   "cell_type": "code",
   "execution_count": 1,
   "id": "4913413c",
   "metadata": {
    "_cell_guid": "b1076dfc-b9ad-4769-8c92-a6c4dae69d19",
    "_uuid": "8f2839f25d086af736a60e9eeb907d3b93b6e0e5",
    "execution": {
     "iopub.execute_input": "2024-01-30T20:13:50.164431Z",
     "iopub.status.busy": "2024-01-30T20:13:50.163598Z",
     "iopub.status.idle": "2024-01-30T20:13:51.003393Z",
     "shell.execute_reply": "2024-01-30T20:13:51.001480Z"
    },
    "papermill": {
     "duration": 0.854049,
     "end_time": "2024-01-30T20:13:51.006379",
     "exception": false,
     "start_time": "2024-01-30T20:13:50.152330",
     "status": "completed"
    },
    "tags": []
   },
   "outputs": [
    {
     "name": "stdout",
     "output_type": "stream",
     "text": [
      "/kaggle/input/bert/tensorflow2/en-uncased-l-12-h-768-a-12/3/saved_model.pb\n",
      "/kaggle/input/bert/tensorflow2/en-uncased-l-12-h-768-a-12/3/assets/vocab.txt\n",
      "/kaggle/input/bert/tensorflow2/en-uncased-l-12-h-768-a-12/3/variables/variables.index\n",
      "/kaggle/input/bert/tensorflow2/en-uncased-l-12-h-768-a-12/3/variables/variables.data-00000-of-00001\n",
      "/kaggle/input/bert/tensorflow2/en-uncased-preprocess/3/saved_model.pb\n",
      "/kaggle/input/bert/tensorflow2/en-uncased-preprocess/3/keras_metadata.pb\n",
      "/kaggle/input/bert/tensorflow2/en-uncased-preprocess/3/assets/vocab.txt\n",
      "/kaggle/input/bert/tensorflow2/en-uncased-preprocess/3/variables/variables.index\n",
      "/kaggle/input/bert/tensorflow2/en-uncased-preprocess/3/variables/variables.data-00000-of-00001\n",
      "/kaggle/input/datasetspam/spam.csv\n"
     ]
    }
   ],
   "source": [
    "# This Python 3 environment comes with many helpful analytics libraries installed\n",
    "# It is defined by the kaggle/python Docker image: https://github.com/kaggle/docker-python\n",
    "# For example, here's several helpful packages to load\n",
    "\n",
    "import numpy as np # linear algebra\n",
    "import pandas as pd # data processing, CSV file I/O (e.g. pd.read_csv)\n",
    "\n",
    "# Input data files are available in the read-only \"../input/\" directory\n",
    "# For example, running this (by clicking run or pressing Shift+Enter) will list all files under the input directory\n",
    "\n",
    "import os\n",
    "for dirname, _, filenames in os.walk('/kaggle/input'):\n",
    "    for filename in filenames:\n",
    "        print(os.path.join(dirname, filename))\n",
    "\n",
    "# You can write up to 20GB to the current directory (/kaggle/working/) that gets preserved as output when you create a version using \"Save & Run All\" \n",
    "# You can also write temporary files to /kaggle/temp/, but they won't be saved outside of the current session"
   ]
  },
  {
   "cell_type": "code",
   "execution_count": null,
   "id": "c2c023a2",
   "metadata": {
    "papermill": {
     "duration": 0.01023,
     "end_time": "2024-01-30T20:13:51.027017",
     "exception": false,
     "start_time": "2024-01-30T20:13:51.016787",
     "status": "completed"
    },
    "tags": []
   },
   "outputs": [],
   "source": []
  },
  {
   "cell_type": "code",
   "execution_count": 2,
   "id": "ee656598",
   "metadata": {
    "execution": {
     "iopub.execute_input": "2024-01-30T20:13:51.048581Z",
     "iopub.status.busy": "2024-01-30T20:13:51.048041Z",
     "iopub.status.idle": "2024-01-30T20:14:06.133757Z",
     "shell.execute_reply": "2024-01-30T20:14:06.132904Z"
    },
    "papermill": {
     "duration": 15.098936,
     "end_time": "2024-01-30T20:14:06.136117",
     "exception": false,
     "start_time": "2024-01-30T20:13:51.037181",
     "status": "completed"
    },
    "tags": []
   },
   "outputs": [
    {
     "name": "stderr",
     "output_type": "stream",
     "text": [
      "2024-01-30 20:13:53.131153: E external/local_xla/xla/stream_executor/cuda/cuda_dnn.cc:9261] Unable to register cuDNN factory: Attempting to register factory for plugin cuDNN when one has already been registered\n",
      "2024-01-30 20:13:53.131267: E external/local_xla/xla/stream_executor/cuda/cuda_fft.cc:607] Unable to register cuFFT factory: Attempting to register factory for plugin cuFFT when one has already been registered\n",
      "2024-01-30 20:13:53.289141: E external/local_xla/xla/stream_executor/cuda/cuda_blas.cc:1515] Unable to register cuBLAS factory: Attempting to register factory for plugin cuBLAS when one has already been registered\n"
     ]
    }
   ],
   "source": [
    "import tensorflow as tf\n",
    "import tensorflow_hub as hub\n",
    "import tensorflow_text as text\n",
    "import pandas as pd"
   ]
  },
  {
   "cell_type": "markdown",
   "id": "9dd82469",
   "metadata": {
    "papermill": {
     "duration": 0.009129,
     "end_time": "2024-01-30T20:14:06.155004",
     "exception": false,
     "start_time": "2024-01-30T20:14:06.145875",
     "status": "completed"
    },
    "tags": []
   },
   "source": [
    " \n",
    " "
   ]
  },
  {
   "cell_type": "code",
   "execution_count": 3,
   "id": "50fb0710",
   "metadata": {
    "execution": {
     "iopub.execute_input": "2024-01-30T20:14:06.174994Z",
     "iopub.status.busy": "2024-01-30T20:14:06.174481Z",
     "iopub.status.idle": "2024-01-30T20:14:06.216218Z",
     "shell.execute_reply": "2024-01-30T20:14:06.215309Z"
    },
    "papermill": {
     "duration": 0.054072,
     "end_time": "2024-01-30T20:14:06.218453",
     "exception": false,
     "start_time": "2024-01-30T20:14:06.164381",
     "status": "completed"
    },
    "tags": []
   },
   "outputs": [
    {
     "data": {
      "text/html": [
       "<div>\n",
       "<style scoped>\n",
       "    .dataframe tbody tr th:only-of-type {\n",
       "        vertical-align: middle;\n",
       "    }\n",
       "\n",
       "    .dataframe tbody tr th {\n",
       "        vertical-align: top;\n",
       "    }\n",
       "\n",
       "    .dataframe thead th {\n",
       "        text-align: right;\n",
       "    }\n",
       "</style>\n",
       "<table border=\"1\" class=\"dataframe\">\n",
       "  <thead>\n",
       "    <tr style=\"text-align: right;\">\n",
       "      <th></th>\n",
       "      <th>Category</th>\n",
       "      <th>Message</th>\n",
       "    </tr>\n",
       "  </thead>\n",
       "  <tbody>\n",
       "    <tr>\n",
       "      <th>0</th>\n",
       "      <td>ham</td>\n",
       "      <td>Go until jurong point, crazy.. Available only ...</td>\n",
       "    </tr>\n",
       "    <tr>\n",
       "      <th>1</th>\n",
       "      <td>ham</td>\n",
       "      <td>Ok lar... Joking wif u oni...</td>\n",
       "    </tr>\n",
       "    <tr>\n",
       "      <th>2</th>\n",
       "      <td>spam</td>\n",
       "      <td>Free entry in 2 a wkly comp to win FA Cup fina...</td>\n",
       "    </tr>\n",
       "    <tr>\n",
       "      <th>3</th>\n",
       "      <td>ham</td>\n",
       "      <td>U dun say so early hor... U c already then say...</td>\n",
       "    </tr>\n",
       "    <tr>\n",
       "      <th>4</th>\n",
       "      <td>ham</td>\n",
       "      <td>Nah I don't think he goes to usf, he lives aro...</td>\n",
       "    </tr>\n",
       "  </tbody>\n",
       "</table>\n",
       "</div>"
      ],
      "text/plain": [
       "  Category                                            Message\n",
       "0      ham  Go until jurong point, crazy.. Available only ...\n",
       "1      ham                      Ok lar... Joking wif u oni...\n",
       "2     spam  Free entry in 2 a wkly comp to win FA Cup fina...\n",
       "3      ham  U dun say so early hor... U c already then say...\n",
       "4      ham  Nah I don't think he goes to usf, he lives aro..."
      ]
     },
     "execution_count": 3,
     "metadata": {},
     "output_type": "execute_result"
    }
   ],
   "source": [
    "df= pd.read_csv(\"/kaggle/input/datasetspam/spam.csv\")\n",
    "df.head(5)"
   ]
  },
  {
   "cell_type": "code",
   "execution_count": 4,
   "id": "e37f4216",
   "metadata": {
    "execution": {
     "iopub.execute_input": "2024-01-30T20:14:06.238882Z",
     "iopub.status.busy": "2024-01-30T20:14:06.238621Z",
     "iopub.status.idle": "2024-01-30T20:14:06.285560Z",
     "shell.execute_reply": "2024-01-30T20:14:06.284698Z"
    },
    "papermill": {
     "duration": 0.059475,
     "end_time": "2024-01-30T20:14:06.287738",
     "exception": false,
     "start_time": "2024-01-30T20:14:06.228263",
     "status": "completed"
    },
    "tags": []
   },
   "outputs": [
    {
     "data": {
      "text/html": [
       "<div>\n",
       "<style scoped>\n",
       "    .dataframe tbody tr th:only-of-type {\n",
       "        vertical-align: middle;\n",
       "    }\n",
       "\n",
       "    .dataframe tbody tr th {\n",
       "        vertical-align: top;\n",
       "    }\n",
       "\n",
       "    .dataframe thead tr th {\n",
       "        text-align: left;\n",
       "    }\n",
       "\n",
       "    .dataframe thead tr:last-of-type th {\n",
       "        text-align: right;\n",
       "    }\n",
       "</style>\n",
       "<table border=\"1\" class=\"dataframe\">\n",
       "  <thead>\n",
       "    <tr>\n",
       "      <th></th>\n",
       "      <th colspan=\"4\" halign=\"left\">Message</th>\n",
       "    </tr>\n",
       "    <tr>\n",
       "      <th></th>\n",
       "      <th>count</th>\n",
       "      <th>unique</th>\n",
       "      <th>top</th>\n",
       "      <th>freq</th>\n",
       "    </tr>\n",
       "    <tr>\n",
       "      <th>Category</th>\n",
       "      <th></th>\n",
       "      <th></th>\n",
       "      <th></th>\n",
       "      <th></th>\n",
       "    </tr>\n",
       "  </thead>\n",
       "  <tbody>\n",
       "    <tr>\n",
       "      <th>ham</th>\n",
       "      <td>4825</td>\n",
       "      <td>4516</td>\n",
       "      <td>Sorry, I'll call later</td>\n",
       "      <td>30</td>\n",
       "    </tr>\n",
       "    <tr>\n",
       "      <th>spam</th>\n",
       "      <td>747</td>\n",
       "      <td>641</td>\n",
       "      <td>Please call our customer service representativ...</td>\n",
       "      <td>4</td>\n",
       "    </tr>\n",
       "  </tbody>\n",
       "</table>\n",
       "</div>"
      ],
      "text/plain": [
       "         Message                                                            \\\n",
       "           count unique                                                top   \n",
       "Category                                                                     \n",
       "ham         4825   4516                             Sorry, I'll call later   \n",
       "spam         747    641  Please call our customer service representativ...   \n",
       "\n",
       "               \n",
       "         freq  \n",
       "Category       \n",
       "ham        30  \n",
       "spam        4  "
      ]
     },
     "execution_count": 4,
     "metadata": {},
     "output_type": "execute_result"
    }
   ],
   "source": [
    "df.groupby('Category').describe()"
   ]
  },
  {
   "cell_type": "markdown",
   "id": "03c1951e",
   "metadata": {
    "papermill": {
     "duration": 0.009733,
     "end_time": "2024-01-30T20:14:06.308580",
     "exception": false,
     "start_time": "2024-01-30T20:14:06.298847",
     "status": "completed"
    },
    "tags": []
   },
   "source": [
    "**THERE IS SOME IMBLANCE IN THE DATASET**"
   ]
  },
  {
   "cell_type": "code",
   "execution_count": 5,
   "id": "0934c1df",
   "metadata": {
    "execution": {
     "iopub.execute_input": "2024-01-30T20:14:06.330099Z",
     "iopub.status.busy": "2024-01-30T20:14:06.329828Z",
     "iopub.status.idle": "2024-01-30T20:14:06.335733Z",
     "shell.execute_reply": "2024-01-30T20:14:06.334849Z"
    },
    "papermill": {
     "duration": 0.018839,
     "end_time": "2024-01-30T20:14:06.337589",
     "exception": false,
     "start_time": "2024-01-30T20:14:06.318750",
     "status": "completed"
    },
    "tags": []
   },
   "outputs": [],
   "source": [
    "df_spam=df[df['Category']=='spam']"
   ]
  },
  {
   "cell_type": "code",
   "execution_count": 6,
   "id": "f1ece987",
   "metadata": {
    "execution": {
     "iopub.execute_input": "2024-01-30T20:14:06.358282Z",
     "iopub.status.busy": "2024-01-30T20:14:06.357989Z",
     "iopub.status.idle": "2024-01-30T20:14:06.363826Z",
     "shell.execute_reply": "2024-01-30T20:14:06.362880Z"
    },
    "papermill": {
     "duration": 0.01847,
     "end_time": "2024-01-30T20:14:06.365918",
     "exception": false,
     "start_time": "2024-01-30T20:14:06.347448",
     "status": "completed"
    },
    "tags": []
   },
   "outputs": [],
   "source": [
    "df_ham=df[df['Category']=='ham']"
   ]
  },
  {
   "cell_type": "code",
   "execution_count": 7,
   "id": "4b723db1",
   "metadata": {
    "execution": {
     "iopub.execute_input": "2024-01-30T20:14:06.387388Z",
     "iopub.status.busy": "2024-01-30T20:14:06.387147Z",
     "iopub.status.idle": "2024-01-30T20:14:06.391531Z",
     "shell.execute_reply": "2024-01-30T20:14:06.390655Z"
    },
    "papermill": {
     "duration": 0.017048,
     "end_time": "2024-01-30T20:14:06.393535",
     "exception": false,
     "start_time": "2024-01-30T20:14:06.376487",
     "status": "completed"
    },
    "tags": []
   },
   "outputs": [],
   "source": [
    "df_ham_downsampled=df_ham.sample(df_spam.shape[0])"
   ]
  },
  {
   "cell_type": "code",
   "execution_count": 8,
   "id": "f237ccbe",
   "metadata": {
    "execution": {
     "iopub.execute_input": "2024-01-30T20:14:06.415375Z",
     "iopub.status.busy": "2024-01-30T20:14:06.415107Z",
     "iopub.status.idle": "2024-01-30T20:14:06.419306Z",
     "shell.execute_reply": "2024-01-30T20:14:06.418468Z"
    },
    "papermill": {
     "duration": 0.01686,
     "end_time": "2024-01-30T20:14:06.421146",
     "exception": false,
     "start_time": "2024-01-30T20:14:06.404286",
     "status": "completed"
    },
    "tags": []
   },
   "outputs": [],
   "source": [
    "df_balanced=pd.concat([df_spam,df_ham_downsampled])"
   ]
  },
  {
   "cell_type": "code",
   "execution_count": 9,
   "id": "adb0e965",
   "metadata": {
    "execution": {
     "iopub.execute_input": "2024-01-30T20:14:06.441393Z",
     "iopub.status.busy": "2024-01-30T20:14:06.441138Z",
     "iopub.status.idle": "2024-01-30T20:14:06.447957Z",
     "shell.execute_reply": "2024-01-30T20:14:06.447000Z"
    },
    "papermill": {
     "duration": 0.019277,
     "end_time": "2024-01-30T20:14:06.449956",
     "exception": false,
     "start_time": "2024-01-30T20:14:06.430679",
     "status": "completed"
    },
    "tags": []
   },
   "outputs": [
    {
     "data": {
      "text/plain": [
       "Category\n",
       "spam    747\n",
       "ham     747\n",
       "Name: count, dtype: int64"
      ]
     },
     "execution_count": 9,
     "metadata": {},
     "output_type": "execute_result"
    }
   ],
   "source": [
    "df_balanced['Category'].value_counts()"
   ]
  },
  {
   "cell_type": "code",
   "execution_count": 10,
   "id": "a72fe64c",
   "metadata": {
    "execution": {
     "iopub.execute_input": "2024-01-30T20:14:06.471483Z",
     "iopub.status.busy": "2024-01-30T20:14:06.471222Z",
     "iopub.status.idle": "2024-01-30T20:14:06.476884Z",
     "shell.execute_reply": "2024-01-30T20:14:06.476105Z"
    },
    "papermill": {
     "duration": 0.018829,
     "end_time": "2024-01-30T20:14:06.478649",
     "exception": false,
     "start_time": "2024-01-30T20:14:06.459820",
     "status": "completed"
    },
    "tags": []
   },
   "outputs": [],
   "source": [
    "df_balanced['spam']=df_balanced['Category'].apply(lambda x :1 if x=='spam' else 0)"
   ]
  },
  {
   "cell_type": "code",
   "execution_count": 11,
   "id": "e71de160",
   "metadata": {
    "execution": {
     "iopub.execute_input": "2024-01-30T20:14:06.499435Z",
     "iopub.status.busy": "2024-01-30T20:14:06.499185Z",
     "iopub.status.idle": "2024-01-30T20:14:06.508362Z",
     "shell.execute_reply": "2024-01-30T20:14:06.507445Z"
    },
    "papermill": {
     "duration": 0.021866,
     "end_time": "2024-01-30T20:14:06.510505",
     "exception": false,
     "start_time": "2024-01-30T20:14:06.488639",
     "status": "completed"
    },
    "tags": []
   },
   "outputs": [
    {
     "data": {
      "text/html": [
       "<div>\n",
       "<style scoped>\n",
       "    .dataframe tbody tr th:only-of-type {\n",
       "        vertical-align: middle;\n",
       "    }\n",
       "\n",
       "    .dataframe tbody tr th {\n",
       "        vertical-align: top;\n",
       "    }\n",
       "\n",
       "    .dataframe thead th {\n",
       "        text-align: right;\n",
       "    }\n",
       "</style>\n",
       "<table border=\"1\" class=\"dataframe\">\n",
       "  <thead>\n",
       "    <tr style=\"text-align: right;\">\n",
       "      <th></th>\n",
       "      <th>Category</th>\n",
       "      <th>Message</th>\n",
       "      <th>spam</th>\n",
       "    </tr>\n",
       "  </thead>\n",
       "  <tbody>\n",
       "    <tr>\n",
       "      <th>1438</th>\n",
       "      <td>ham</td>\n",
       "      <td>Wat so late still early mah. Or we juz go 4 di...</td>\n",
       "      <td>0</td>\n",
       "    </tr>\n",
       "    <tr>\n",
       "      <th>163</th>\n",
       "      <td>ham</td>\n",
       "      <td>I'm so in love with you. I'm excited each day ...</td>\n",
       "      <td>0</td>\n",
       "    </tr>\n",
       "    <tr>\n",
       "      <th>4904</th>\n",
       "      <td>ham</td>\n",
       "      <td>I;m reaching in another 2 stops.</td>\n",
       "      <td>0</td>\n",
       "    </tr>\n",
       "    <tr>\n",
       "      <th>3352</th>\n",
       "      <td>ham</td>\n",
       "      <td>At what time are you coming.</td>\n",
       "      <td>0</td>\n",
       "    </tr>\n",
       "    <tr>\n",
       "      <th>2316</th>\n",
       "      <td>ham</td>\n",
       "      <td>That's significant but dont worry.</td>\n",
       "      <td>0</td>\n",
       "    </tr>\n",
       "  </tbody>\n",
       "</table>\n",
       "</div>"
      ],
      "text/plain": [
       "     Category                                            Message  spam\n",
       "1438      ham  Wat so late still early mah. Or we juz go 4 di...     0\n",
       "163       ham  I'm so in love with you. I'm excited each day ...     0\n",
       "4904      ham                   I;m reaching in another 2 stops.     0\n",
       "3352      ham                       At what time are you coming.     0\n",
       "2316      ham                 That's significant but dont worry.     0"
      ]
     },
     "execution_count": 11,
     "metadata": {},
     "output_type": "execute_result"
    }
   ],
   "source": [
    "df_balanced.sample(5)"
   ]
  },
  {
   "cell_type": "code",
   "execution_count": 12,
   "id": "ccc3e209",
   "metadata": {
    "execution": {
     "iopub.execute_input": "2024-01-30T20:14:06.532262Z",
     "iopub.status.busy": "2024-01-30T20:14:06.531974Z",
     "iopub.status.idle": "2024-01-30T20:14:07.630106Z",
     "shell.execute_reply": "2024-01-30T20:14:07.629284Z"
    },
    "papermill": {
     "duration": 1.111221,
     "end_time": "2024-01-30T20:14:07.632508",
     "exception": false,
     "start_time": "2024-01-30T20:14:06.521287",
     "status": "completed"
    },
    "tags": []
   },
   "outputs": [],
   "source": [
    "from sklearn.model_selection import train_test_split\n",
    "X_train, X_test, y_train,y_test= train_test_split(df_balanced['Message'],df_balanced['spam'],stratify=df_balanced['spam'])"
   ]
  },
  {
   "cell_type": "code",
   "execution_count": 13,
   "id": "06a10007",
   "metadata": {
    "execution": {
     "iopub.execute_input": "2024-01-30T20:14:07.656685Z",
     "iopub.status.busy": "2024-01-30T20:14:07.656148Z",
     "iopub.status.idle": "2024-01-30T20:14:07.663952Z",
     "shell.execute_reply": "2024-01-30T20:14:07.662906Z"
    },
    "papermill": {
     "duration": 0.021848,
     "end_time": "2024-01-30T20:14:07.666031",
     "exception": false,
     "start_time": "2024-01-30T20:14:07.644183",
     "status": "completed"
    },
    "tags": []
   },
   "outputs": [
    {
     "data": {
      "text/plain": [
       "3217    URGENT! We are trying to contact U. Todays dra...\n",
       "789     5 Free Top Polyphonic Tones call 087018728737,...\n",
       "3126    1st wk FREE! Gr8 tones str8 2 u each wk. Txt N...\n",
       "2374    XMAS Prize draws! We are trying to contact U. ...\n",
       "4348    U 447801259231 have a secret admirer who is lo...\n",
       "5540    ASKED 3MOBILE IF 0870 CHATLINES INCLU IN FREE ...\n",
       "30      Wait that's still not all that clear, were you...\n",
       "4249    accordingly. I repeat, just text the word ok o...\n",
       "1722    Am watching house – very entertaining – am get...\n",
       "4456    Storming msg: Wen u lift d phne, u say \"HELLO\"...\n",
       "Name: Message, dtype: object"
      ]
     },
     "execution_count": 13,
     "metadata": {},
     "output_type": "execute_result"
    }
   ],
   "source": [
    "X_train.head(10)"
   ]
  },
  {
   "cell_type": "code",
   "execution_count": 14,
   "id": "ab664587",
   "metadata": {
    "execution": {
     "iopub.execute_input": "2024-01-30T20:14:07.689370Z",
     "iopub.status.busy": "2024-01-30T20:14:07.689098Z",
     "iopub.status.idle": "2024-01-30T20:14:26.337705Z",
     "shell.execute_reply": "2024-01-30T20:14:26.336795Z"
    },
    "papermill": {
     "duration": 18.662539,
     "end_time": "2024-01-30T20:14:26.339965",
     "exception": false,
     "start_time": "2024-01-30T20:14:07.677426",
     "status": "completed"
    },
    "tags": []
   },
   "outputs": [
    {
     "name": "stderr",
     "output_type": "stream",
     "text": [
      "Attaching model 'tensorflow/bert/tensorflow2/en-uncased-preprocess/3' to your Kaggle notebook...\n",
      "Attaching model 'tensorflow/bert/tensorflow2/en-uncased-l-12-h-768-a-12/3' to your Kaggle notebook...\n"
     ]
    }
   ],
   "source": [
    "bert_preprocessor = hub.KerasLayer(\n",
    "    \"https://kaggle.com/models/tensorflow/bert/frameworks/TensorFlow2/variations/en-uncased-preprocess/versions/3\")\n",
    "bert_encoder = hub.KerasLayer(\n",
    "    \"https://kaggle.com/models/tensorflow/bert/frameworks/TensorFlow2/variations/en-uncased-l-12-h-768-a-12/versions/3\")"
   ]
  },
  {
   "cell_type": "code",
   "execution_count": 15,
   "id": "98ee75bc",
   "metadata": {
    "execution": {
     "iopub.execute_input": "2024-01-30T20:14:26.362587Z",
     "iopub.status.busy": "2024-01-30T20:14:26.361943Z",
     "iopub.status.idle": "2024-01-30T20:14:26.366338Z",
     "shell.execute_reply": "2024-01-30T20:14:26.365480Z"
    },
    "papermill": {
     "duration": 0.017551,
     "end_time": "2024-01-30T20:14:26.368204",
     "exception": false,
     "start_time": "2024-01-30T20:14:26.350653",
     "status": "completed"
    },
    "tags": []
   },
   "outputs": [],
   "source": [
    "def get_sentence_embeding(sentences):\n",
    "    preprocessed_text= bert_preprocessor(sentences)\n",
    "    return bert_encoder(preprocessed_text)['pooled_output']"
   ]
  },
  {
   "cell_type": "code",
   "execution_count": 16,
   "id": "86f2bbf6",
   "metadata": {
    "execution": {
     "iopub.execute_input": "2024-01-30T20:14:26.389735Z",
     "iopub.status.busy": "2024-01-30T20:14:26.389485Z",
     "iopub.status.idle": "2024-01-30T20:14:29.719288Z",
     "shell.execute_reply": "2024-01-30T20:14:29.718223Z"
    },
    "papermill": {
     "duration": 3.343323,
     "end_time": "2024-01-30T20:14:29.721748",
     "exception": false,
     "start_time": "2024-01-30T20:14:26.378425",
     "status": "completed"
    },
    "tags": []
   },
   "outputs": [],
   "source": [
    "e= get_sentence_embeding([\n",
    "    \"banana\",\n",
    "    \"grapes\",\"mango\",\"jeff bezos\",\"elon musk\",\"bill gates\"\n",
    "])"
   ]
  },
  {
   "cell_type": "code",
   "execution_count": 17,
   "id": "a6897c17",
   "metadata": {
    "execution": {
     "iopub.execute_input": "2024-01-30T20:14:29.747132Z",
     "iopub.status.busy": "2024-01-30T20:14:29.746743Z",
     "iopub.status.idle": "2024-01-30T20:14:29.762159Z",
     "shell.execute_reply": "2024-01-30T20:14:29.761097Z"
    },
    "papermill": {
     "duration": 0.031619,
     "end_time": "2024-01-30T20:14:29.765841",
     "exception": false,
     "start_time": "2024-01-30T20:14:29.734222",
     "status": "completed"
    },
    "tags": []
   },
   "outputs": [
    {
     "data": {
      "text/plain": [
       "<tf.Tensor: shape=(6, 768), dtype=float32, numpy=\n",
       "array([[-0.7606916 , -0.1421939 ,  0.4960467 , ...,  0.42165366,\n",
       "        -0.5322139 ,  0.80312145],\n",
       "       [-0.86023206, -0.21242917,  0.49156943, ...,  0.3979806 ,\n",
       "        -0.6050627 ,  0.8447165 ],\n",
       "       [-0.7128858 , -0.15463899,  0.38401696, ...,  0.35278735,\n",
       "        -0.50991327,  0.7347407 ],\n",
       "       [-0.8253348 , -0.3555059 , -0.5906971 , ..., -0.01613699,\n",
       "        -0.6141758 ,  0.8723029 ],\n",
       "       [-0.750413  , -0.26812592, -0.2668958 , ...,  0.02839475,\n",
       "        -0.59380937,  0.79749817],\n",
       "       [-0.7854431 , -0.29949626,  0.41027677, ...,  0.5222551 ,\n",
       "        -0.4957349 ,  0.81507415]], dtype=float32)>"
      ]
     },
     "execution_count": 17,
     "metadata": {},
     "output_type": "execute_result"
    }
   ],
   "source": [
    "e"
   ]
  },
  {
   "cell_type": "code",
   "execution_count": 18,
   "id": "cb2fa489",
   "metadata": {
    "execution": {
     "iopub.execute_input": "2024-01-30T20:14:29.794850Z",
     "iopub.status.busy": "2024-01-30T20:14:29.794501Z",
     "iopub.status.idle": "2024-01-30T20:14:29.798925Z",
     "shell.execute_reply": "2024-01-30T20:14:29.798082Z"
    },
    "papermill": {
     "duration": 0.019737,
     "end_time": "2024-01-30T20:14:29.802215",
     "exception": false,
     "start_time": "2024-01-30T20:14:29.782478",
     "status": "completed"
    },
    "tags": []
   },
   "outputs": [],
   "source": [
    "from sklearn.metrics.pairwise import cosine_similarity"
   ]
  },
  {
   "cell_type": "code",
   "execution_count": 19,
   "id": "46648948",
   "metadata": {
    "execution": {
     "iopub.execute_input": "2024-01-30T20:14:29.828661Z",
     "iopub.status.busy": "2024-01-30T20:14:29.827991Z",
     "iopub.status.idle": "2024-01-30T20:14:29.840869Z",
     "shell.execute_reply": "2024-01-30T20:14:29.839749Z"
    },
    "papermill": {
     "duration": 0.027335,
     "end_time": "2024-01-30T20:14:29.843356",
     "exception": false,
     "start_time": "2024-01-30T20:14:29.816021",
     "status": "completed"
    },
    "tags": []
   },
   "outputs": [
    {
     "data": {
      "text/plain": [
       "array([[0.9872034]], dtype=float32)"
      ]
     },
     "execution_count": 19,
     "metadata": {},
     "output_type": "execute_result"
    }
   ],
   "source": [
    "cosine_similarity([e[4]],[e[3]])"
   ]
  },
  {
   "cell_type": "code",
   "execution_count": 20,
   "id": "27c4ce37",
   "metadata": {
    "execution": {
     "iopub.execute_input": "2024-01-30T20:14:29.868708Z",
     "iopub.status.busy": "2024-01-30T20:14:29.868416Z",
     "iopub.status.idle": "2024-01-30T20:14:30.616850Z",
     "shell.execute_reply": "2024-01-30T20:14:30.615864Z"
    },
    "papermill": {
     "duration": 0.763481,
     "end_time": "2024-01-30T20:14:30.619241",
     "exception": false,
     "start_time": "2024-01-30T20:14:29.855760",
     "status": "completed"
    },
    "tags": []
   },
   "outputs": [],
   "source": [
    "text_input = tf.keras.layers.Input(shape=(), dtype=tf.string)\n",
    "preprocessed_text=bert_preprocessor(text_input)\n",
    "outputs= bert_encoder(preprocessed_text)"
   ]
  },
  {
   "cell_type": "code",
   "execution_count": 21,
   "id": "a2a4afbc",
   "metadata": {
    "execution": {
     "iopub.execute_input": "2024-01-30T20:14:30.642333Z",
     "iopub.status.busy": "2024-01-30T20:14:30.641695Z",
     "iopub.status.idle": "2024-01-30T20:14:30.685951Z",
     "shell.execute_reply": "2024-01-30T20:14:30.685268Z"
    },
    "papermill": {
     "duration": 0.057588,
     "end_time": "2024-01-30T20:14:30.687833",
     "exception": false,
     "start_time": "2024-01-30T20:14:30.630245",
     "status": "completed"
    },
    "tags": []
   },
   "outputs": [],
   "source": [
    "l=tf.keras.layers.Dropout(0.1,name='dropout')(outputs['pooled_output'])\n",
    "l=tf.keras.layers.Dense(1,activation='sigmoid',name='output')(l)\n"
   ]
  },
  {
   "cell_type": "code",
   "execution_count": 22,
   "id": "9363785e",
   "metadata": {
    "execution": {
     "iopub.execute_input": "2024-01-30T20:14:30.710674Z",
     "iopub.status.busy": "2024-01-30T20:14:30.710407Z",
     "iopub.status.idle": "2024-01-30T20:14:30.718765Z",
     "shell.execute_reply": "2024-01-30T20:14:30.718095Z"
    },
    "papermill": {
     "duration": 0.021917,
     "end_time": "2024-01-30T20:14:30.720585",
     "exception": false,
     "start_time": "2024-01-30T20:14:30.698668",
     "status": "completed"
    },
    "tags": []
   },
   "outputs": [],
   "source": [
    "model=tf.keras.Model(inputs=[text_input],outputs=[l])"
   ]
  },
  {
   "cell_type": "code",
   "execution_count": 23,
   "id": "2daf93ed",
   "metadata": {
    "execution": {
     "iopub.execute_input": "2024-01-30T20:14:30.744116Z",
     "iopub.status.busy": "2024-01-30T20:14:30.743832Z",
     "iopub.status.idle": "2024-01-30T20:14:30.793292Z",
     "shell.execute_reply": "2024-01-30T20:14:30.792379Z"
    },
    "papermill": {
     "duration": 0.067797,
     "end_time": "2024-01-30T20:14:30.799341",
     "exception": false,
     "start_time": "2024-01-30T20:14:30.731544",
     "status": "completed"
    },
    "tags": []
   },
   "outputs": [
    {
     "name": "stdout",
     "output_type": "stream",
     "text": [
      "Model: \"model\"\n",
      "__________________________________________________________________________________________________\n",
      " Layer (type)                Output Shape                 Param #   Connected to                  \n",
      "==================================================================================================\n",
      " input_1 (InputLayer)        [(None,)]                    0         []                            \n",
      "                                                                                                  \n",
      " keras_layer (KerasLayer)    {'input_word_ids': (None,    0         ['input_1[0][0]']             \n",
      "                             128),                                                                \n",
      "                              'input_type_ids': (None,                                            \n",
      "                             128),                                                                \n",
      "                              'input_mask': (None, 128)                                           \n",
      "                             }                                                                    \n",
      "                                                                                                  \n",
      " keras_layer_1 (KerasLayer)  {'default': (None, 768),     1094822   ['keras_layer[0][0]',         \n",
      "                              'sequence_output': (None,   41         'keras_layer[0][1]',         \n",
      "                              128, 768),                             'keras_layer[0][2]']         \n",
      "                              'pooled_output': (None, 7                                           \n",
      "                             68),                                                                 \n",
      "                              'encoder_outputs': [(None                                           \n",
      "                             , 128, 768),                                                         \n",
      "                              (None, 128, 768),                                                   \n",
      "                              (None, 128, 768),                                                   \n",
      "                              (None, 128, 768),                                                   \n",
      "                              (None, 128, 768),                                                   \n",
      "                              (None, 128, 768),                                                   \n",
      "                              (None, 128, 768),                                                   \n",
      "                              (None, 128, 768),                                                   \n",
      "                              (None, 128, 768),                                                   \n",
      "                              (None, 128, 768),                                                   \n",
      "                              (None, 128, 768),                                                   \n",
      "                              (None, 128, 768)]}                                                  \n",
      "                                                                                                  \n",
      " dropout (Dropout)           (None, 768)                  0         ['keras_layer_1[0][13]']      \n",
      "                                                                                                  \n",
      " output (Dense)              (None, 1)                    769       ['dropout[0][0]']             \n",
      "                                                                                                  \n",
      "==================================================================================================\n",
      "Total params: 109483010 (417.64 MB)\n",
      "Trainable params: 769 (3.00 KB)\n",
      "Non-trainable params: 109482241 (417.64 MB)\n",
      "__________________________________________________________________________________________________\n"
     ]
    }
   ],
   "source": [
    "model.summary()"
   ]
  },
  {
   "cell_type": "code",
   "execution_count": 24,
   "id": "05f1db7f",
   "metadata": {
    "execution": {
     "iopub.execute_input": "2024-01-30T20:14:30.828849Z",
     "iopub.status.busy": "2024-01-30T20:14:30.828571Z",
     "iopub.status.idle": "2024-01-30T20:14:30.859492Z",
     "shell.execute_reply": "2024-01-30T20:14:30.858733Z"
    },
    "papermill": {
     "duration": 0.04807,
     "end_time": "2024-01-30T20:14:30.862020",
     "exception": false,
     "start_time": "2024-01-30T20:14:30.813950",
     "status": "completed"
    },
    "tags": []
   },
   "outputs": [],
   "source": [
    "METRICS=[\n",
    "    tf.keras.metrics.BinaryAccuracy(name='accuracy'),\n",
    "    tf.keras.metrics.Precision(name='Precision'),\n",
    "    tf.keras.metrics.Recall(name='recall')\n",
    "]\n",
    "\n",
    "model.compile(optimizer='adam',\n",
    "             loss='binary_crossentropy',\n",
    "             metrics=METRICS)"
   ]
  },
  {
   "cell_type": "code",
   "execution_count": 25,
   "id": "5d725e09",
   "metadata": {
    "execution": {
     "iopub.execute_input": "2024-01-30T20:14:30.892359Z",
     "iopub.status.busy": "2024-01-30T20:14:30.892074Z",
     "iopub.status.idle": "2024-01-30T20:16:28.921761Z",
     "shell.execute_reply": "2024-01-30T20:16:28.920938Z"
    },
    "papermill": {
     "duration": 118.046665,
     "end_time": "2024-01-30T20:16:28.923783",
     "exception": false,
     "start_time": "2024-01-30T20:14:30.877118",
     "status": "completed"
    },
    "tags": []
   },
   "outputs": [
    {
     "name": "stdout",
     "output_type": "stream",
     "text": [
      "Epoch 1/10\n",
      " 1/35 [..............................] - ETA: 5:30 - loss: 0.6295 - accuracy: 0.5938 - Precision: 0.6333 - recall: 0.9048"
     ]
    },
    {
     "name": "stderr",
     "output_type": "stream",
     "text": [
      "WARNING: All log messages before absl::InitializeLog() is called are written to STDERR\n",
      "I0000 00:00:1706645680.554736      72 device_compiler.h:186] Compiled cluster using XLA!  This line is logged at most once for the lifetime of the process.\n"
     ]
    },
    {
     "name": "stdout",
     "output_type": "stream",
     "text": [
      "35/35 [==============================] - 20s 294ms/step - loss: 0.6240 - accuracy: 0.6804 - Precision: 0.6836 - recall: 0.6714\n",
      "Epoch 2/10\n",
      "35/35 [==============================] - 10s 297ms/step - loss: 0.4891 - accuracy: 0.8402 - Precision: 0.8313 - recall: 0.8536\n",
      "Epoch 3/10\n",
      "35/35 [==============================] - 11s 300ms/step - loss: 0.4234 - accuracy: 0.8687 - Precision: 0.8655 - recall: 0.8732\n",
      "Epoch 4/10\n",
      "35/35 [==============================] - 11s 304ms/step - loss: 0.3763 - accuracy: 0.8821 - Precision: 0.8808 - recall: 0.8839\n",
      "Epoch 5/10\n",
      "35/35 [==============================] - 11s 308ms/step - loss: 0.3435 - accuracy: 0.8964 - Precision: 0.8922 - recall: 0.9018\n",
      "Epoch 6/10\n",
      "35/35 [==============================] - 11s 312ms/step - loss: 0.3250 - accuracy: 0.9045 - Precision: 0.8995 - recall: 0.9107\n",
      "Epoch 7/10\n",
      "35/35 [==============================] - 11s 319ms/step - loss: 0.3085 - accuracy: 0.9027 - Precision: 0.9005 - recall: 0.9054\n",
      "Epoch 8/10\n",
      "35/35 [==============================] - 11s 326ms/step - loss: 0.2886 - accuracy: 0.9107 - Precision: 0.9035 - recall: 0.9196\n",
      "Epoch 9/10\n",
      "35/35 [==============================] - 11s 324ms/step - loss: 0.2773 - accuracy: 0.9143 - Precision: 0.9070 - recall: 0.9232\n",
      "Epoch 10/10\n",
      "35/35 [==============================] - 11s 316ms/step - loss: 0.2706 - accuracy: 0.9170 - Precision: 0.9133 - recall: 0.9214\n"
     ]
    },
    {
     "data": {
      "text/plain": [
       "<keras.src.callbacks.History at 0x7de051e544f0>"
      ]
     },
     "execution_count": 25,
     "metadata": {},
     "output_type": "execute_result"
    }
   ],
   "source": [
    "model.fit(X_train,y_train,epochs=10)"
   ]
  },
  {
   "cell_type": "raw",
   "id": "83979eeb",
   "metadata": {
    "execution": {
     "iopub.execute_input": "2024-01-30T20:06:18.078877Z",
     "iopub.status.busy": "2024-01-30T20:06:18.078501Z",
     "iopub.status.idle": "2024-01-30T20:06:22.903665Z",
     "shell.execute_reply": "2024-01-30T20:06:22.902674Z",
     "shell.execute_reply.started": "2024-01-30T20:06:18.078846Z"
    },
    "papermill": {
     "duration": 0.042683,
     "end_time": "2024-01-30T20:16:29.010469",
     "exception": false,
     "start_time": "2024-01-30T20:16:28.967786",
     "status": "completed"
    },
    "tags": []
   },
   "source": [
    "model.evaluate(X_test,y_test)"
   ]
  },
  {
   "cell_type": "code",
   "execution_count": 26,
   "id": "4625a73d",
   "metadata": {
    "execution": {
     "iopub.execute_input": "2024-01-30T20:16:29.102148Z",
     "iopub.status.busy": "2024-01-30T20:16:29.101493Z",
     "iopub.status.idle": "2024-01-30T20:16:33.564817Z",
     "shell.execute_reply": "2024-01-30T20:16:33.563945Z"
    },
    "papermill": {
     "duration": 4.512293,
     "end_time": "2024-01-30T20:16:33.566828",
     "exception": false,
     "start_time": "2024-01-30T20:16:29.054535",
     "status": "completed"
    },
    "tags": []
   },
   "outputs": [
    {
     "name": "stdout",
     "output_type": "stream",
     "text": [
      "12/12 [==============================] - 4s 310ms/step\n"
     ]
    }
   ],
   "source": [
    " y_predicted=model.predict(X_test)"
   ]
  },
  {
   "cell_type": "code",
   "execution_count": 27,
   "id": "1b93d2ee",
   "metadata": {
    "execution": {
     "iopub.execute_input": "2024-01-30T20:16:33.705920Z",
     "iopub.status.busy": "2024-01-30T20:16:33.705523Z",
     "iopub.status.idle": "2024-01-30T20:16:33.710081Z",
     "shell.execute_reply": "2024-01-30T20:16:33.709198Z"
    },
    "papermill": {
     "duration": 0.056808,
     "end_time": "2024-01-30T20:16:33.712199",
     "exception": false,
     "start_time": "2024-01-30T20:16:33.655391",
     "status": "completed"
    },
    "tags": []
   },
   "outputs": [],
   "source": [
    "y_predicted=y_predicted.flatten()"
   ]
  },
  {
   "cell_type": "code",
   "execution_count": 28,
   "id": "5ff13ecb",
   "metadata": {
    "execution": {
     "iopub.execute_input": "2024-01-30T20:16:33.806411Z",
     "iopub.status.busy": "2024-01-30T20:16:33.805671Z",
     "iopub.status.idle": "2024-01-30T20:16:33.816423Z",
     "shell.execute_reply": "2024-01-30T20:16:33.815267Z"
    },
    "papermill": {
     "duration": 0.060056,
     "end_time": "2024-01-30T20:16:33.818866",
     "exception": false,
     "start_time": "2024-01-30T20:16:33.758810",
     "status": "completed"
    },
    "tags": []
   },
   "outputs": [
    {
     "data": {
      "text/plain": [
       "array([0.09060279, 0.91048074, 0.61975735, 0.22444066, 0.8199088 ,\n",
       "       0.65779805, 0.04106794, 0.56966895, 0.07867905, 0.1906043 ,\n",
       "       0.01329728, 0.788162  , 0.6990626 , 0.00599122, 0.9191588 ,\n",
       "       0.97706133, 0.8474964 , 0.05352975, 0.5269097 , 0.9548245 ,\n",
       "       0.18105742, 0.36369088, 0.41217127, 0.06230614, 0.90033495,\n",
       "       0.6865837 , 0.918583  , 0.0797281 , 0.03727516, 0.96135414,\n",
       "       0.32672784, 0.04080017, 0.23086147, 0.04074951, 0.05306548,\n",
       "       0.45613763, 0.26944074, 0.9446239 , 0.8216216 , 0.7149376 ,\n",
       "       0.7750759 , 0.894094  , 0.9671778 , 0.9049389 , 0.6022083 ,\n",
       "       0.40823227, 0.8716264 , 0.0241708 , 0.6325326 , 0.95289063,\n",
       "       0.51216704, 0.1748586 , 0.46453324, 0.29386318, 0.02907345,\n",
       "       0.09099828, 0.35457957, 0.01350845, 0.0435731 , 0.04241963,\n",
       "       0.9421133 , 0.67037606, 0.04648522, 0.7994902 , 0.9340436 ,\n",
       "       0.7226654 , 0.04070574, 0.60257006, 0.84108025, 0.06311991,\n",
       "       0.10708261, 0.0330059 , 0.09435981, 0.40065932, 0.0096706 ,\n",
       "       0.71918756, 0.8994039 , 0.8642872 , 0.04932639, 0.9867997 ,\n",
       "       0.9156637 , 0.41145283, 0.15121469, 0.8801744 , 0.04936098,\n",
       "       0.05397065, 0.03030753, 0.811116  , 0.8852547 , 0.0340732 ,\n",
       "       0.9010169 , 0.04218163, 0.09849074, 0.1571493 , 0.55956113,\n",
       "       0.04395584, 0.82053214, 0.56976736, 0.9139741 , 0.9200111 ,\n",
       "       0.7883645 , 0.43673635, 0.4589426 , 0.13535406, 0.9354807 ,\n",
       "       0.59275544, 0.21272537, 0.10092711, 0.9446239 , 0.95913994,\n",
       "       0.07680212, 0.9099521 , 0.8929342 , 0.9103751 , 0.03527597,\n",
       "       0.7592956 , 0.01489032, 0.82796925, 0.63584155, 0.74608433,\n",
       "       0.09538441, 0.29259354, 0.09532224, 0.94609094, 0.01172065,\n",
       "       0.3403094 , 0.06958089, 0.74954855, 0.7534224 , 0.85222036,\n",
       "       0.4669463 , 0.33403397, 0.07100824, 0.9024549 , 0.16295609,\n",
       "       0.04280104, 0.8033726 , 0.16171627, 0.02183018, 0.8353489 ,\n",
       "       0.6372276 , 0.14019749, 0.6190848 , 0.2719455 , 0.763176  ,\n",
       "       0.9447461 , 0.19821884, 0.04321822, 0.8474964 , 0.95776063,\n",
       "       0.9628103 , 0.55128384, 0.8369937 , 0.05312454, 0.0614477 ,\n",
       "       0.9572909 , 0.70014644, 0.10755224, 0.02000128, 0.47289053,\n",
       "       0.8751546 , 0.01383604, 0.18598303, 0.811116  , 0.9172617 ,\n",
       "       0.9757043 , 0.10785239, 0.01636881, 0.02776592, 0.92122525,\n",
       "       0.61209965, 0.05569883, 0.02517661, 0.03866926, 0.9628915 ,\n",
       "       0.11493846, 0.08741208, 0.42845586, 0.7247534 , 0.9468763 ,\n",
       "       0.79416955, 0.8084028 , 0.9455508 , 0.7953057 , 0.8377693 ,\n",
       "       0.31404   , 0.2334807 , 0.04502453, 0.20697583, 0.07932734,\n",
       "       0.8871587 , 0.9056262 , 0.05085162, 0.9010268 , 0.9080531 ,\n",
       "       0.01512331, 0.9237626 , 0.01372186, 0.87697756, 0.16836251,\n",
       "       0.43796906, 0.7388407 , 0.01204082, 0.05242212, 0.856797  ,\n",
       "       0.9015244 , 0.02238396, 0.11220436, 0.9477156 , 0.78716636,\n",
       "       0.7975269 , 0.74088633, 0.7156882 , 0.08348976, 0.9382504 ,\n",
       "       0.5635435 , 0.97856027, 0.02871033, 0.53775513, 0.74175453,\n",
       "       0.35381836, 0.17338343, 0.22976832, 0.5972926 , 0.39470097,\n",
       "       0.89669704, 0.9311612 , 0.02843834, 0.7522662 , 0.9828319 ,\n",
       "       0.79491776, 0.54750526, 0.05715154, 0.10919609, 0.1924938 ,\n",
       "       0.26795173, 0.0558162 , 0.04049507, 0.18262254, 0.15811224,\n",
       "       0.97971076, 0.66394717, 0.9633769 , 0.82901806, 0.8829598 ,\n",
       "       0.38418263, 0.11039327, 0.03561143, 0.67496705, 0.17579709,\n",
       "       0.9352818 , 0.4885162 , 0.04671813, 0.48874682, 0.13111222,\n",
       "       0.1042626 , 0.93763703, 0.10311498, 0.9563753 , 0.47431794,\n",
       "       0.10842815, 0.9385582 , 0.0544367 , 0.974035  , 0.8717733 ,\n",
       "       0.808119  , 0.9158845 , 0.57241577, 0.704214  , 0.7054128 ,\n",
       "       0.07336879, 0.9446099 , 0.3611806 , 0.8932332 , 0.03955734,\n",
       "       0.8452202 , 0.7082144 , 0.15141422, 0.49525502, 0.9100153 ,\n",
       "       0.31300262, 0.7946471 , 0.13412826, 0.81662285, 0.89726967,\n",
       "       0.9228185 , 0.1578665 , 0.04359202, 0.56965625, 0.7339618 ,\n",
       "       0.96230984, 0.07932734, 0.06168811, 0.08985209, 0.74790925,\n",
       "       0.407648  , 0.7940317 , 0.8307285 , 0.54375577, 0.88690084,\n",
       "       0.46932405, 0.06264484, 0.73703504, 0.08338603, 0.08276584,\n",
       "       0.43108708, 0.5952148 , 0.07371455, 0.92183983, 0.46471646,\n",
       "       0.02825949, 0.6141172 , 0.92161846, 0.9311612 , 0.08741208,\n",
       "       0.0407569 , 0.21654342, 0.05928572, 0.81390977, 0.8201241 ,\n",
       "       0.12486555, 0.9628669 , 0.08131365, 0.8953762 , 0.97641706,\n",
       "       0.03646651, 0.0522065 , 0.7607634 , 0.82464856, 0.21281318,\n",
       "       0.1506902 , 0.2741023 , 0.42463076, 0.5493466 , 0.8290702 ,\n",
       "       0.883554  , 0.06819955, 0.753498  , 0.32264704, 0.04635336,\n",
       "       0.9446371 , 0.03185226, 0.6053845 , 0.9075648 , 0.5634426 ,\n",
       "       0.8965756 , 0.08943429, 0.15393744, 0.7714423 , 0.6163671 ,\n",
       "       0.7592956 , 0.9635131 , 0.84639925, 0.1540074 , 0.60247415,\n",
       "       0.32674843, 0.9911776 , 0.06133617, 0.14890431, 0.60341114,\n",
       "       0.13071032, 0.8942636 , 0.00887482, 0.04516558, 0.55999583,\n",
       "       0.8758989 , 0.75322646, 0.22356644, 0.00986126, 0.9142596 ,\n",
       "       0.62443846, 0.83549017, 0.6865835 , 0.21094193], dtype=float32)"
      ]
     },
     "execution_count": 28,
     "metadata": {},
     "output_type": "execute_result"
    }
   ],
   "source": [
    "y_predicted"
   ]
  },
  {
   "cell_type": "code",
   "execution_count": 29,
   "id": "1d35ab12",
   "metadata": {
    "execution": {
     "iopub.execute_input": "2024-01-30T20:16:33.934575Z",
     "iopub.status.busy": "2024-01-30T20:16:33.934231Z",
     "iopub.status.idle": "2024-01-30T20:16:33.943235Z",
     "shell.execute_reply": "2024-01-30T20:16:33.942301Z"
    },
    "papermill": {
     "duration": 0.063343,
     "end_time": "2024-01-30T20:16:33.945124",
     "exception": false,
     "start_time": "2024-01-30T20:16:33.881781",
     "status": "completed"
    },
    "tags": []
   },
   "outputs": [
    {
     "data": {
      "text/plain": [
       "array([0, 1, 1, 0, 1, 1, 0, 1, 0, 0, 0, 1, 1, 0, 1, 1, 1, 0, 1, 1, 0, 0,\n",
       "       0, 0, 1, 1, 1, 0, 0, 1, 0, 0, 0, 0, 0, 0, 0, 1, 1, 1, 1, 1, 1, 1,\n",
       "       1, 0, 1, 0, 1, 1, 1, 0, 0, 0, 0, 0, 0, 0, 0, 0, 1, 1, 0, 1, 1, 1,\n",
       "       0, 1, 1, 0, 0, 0, 0, 0, 0, 1, 1, 1, 0, 1, 1, 0, 0, 1, 0, 0, 0, 1,\n",
       "       1, 0, 1, 0, 0, 0, 1, 0, 1, 1, 1, 1, 1, 0, 0, 0, 1, 1, 0, 0, 1, 1,\n",
       "       0, 1, 1, 1, 0, 1, 0, 1, 1, 1, 0, 0, 0, 1, 0, 0, 0, 1, 1, 1, 0, 0,\n",
       "       0, 1, 0, 0, 1, 0, 0, 1, 1, 0, 1, 0, 1, 1, 0, 0, 1, 1, 1, 1, 1, 0,\n",
       "       0, 1, 1, 0, 0, 0, 1, 0, 0, 1, 1, 1, 0, 0, 0, 1, 1, 0, 0, 0, 1, 0,\n",
       "       0, 0, 1, 1, 1, 1, 1, 1, 1, 0, 0, 0, 0, 0, 1, 1, 0, 1, 1, 0, 1, 0,\n",
       "       1, 0, 0, 1, 0, 0, 1, 1, 0, 0, 1, 1, 1, 1, 1, 0, 1, 1, 1, 0, 1, 1,\n",
       "       0, 0, 0, 1, 0, 1, 1, 0, 1, 1, 1, 1, 0, 0, 0, 0, 0, 0, 0, 0, 1, 1,\n",
       "       1, 1, 1, 0, 0, 0, 1, 0, 1, 0, 0, 0, 0, 0, 1, 0, 1, 0, 0, 1, 0, 1,\n",
       "       1, 1, 1, 1, 1, 1, 0, 1, 0, 1, 0, 1, 1, 0, 0, 1, 0, 1, 0, 1, 1, 1,\n",
       "       0, 0, 1, 1, 1, 0, 0, 0, 1, 0, 1, 1, 1, 1, 0, 0, 1, 0, 0, 0, 1, 0,\n",
       "       1, 0, 0, 1, 1, 1, 0, 0, 0, 0, 1, 1, 0, 1, 0, 1, 1, 0, 0, 1, 1, 0,\n",
       "       0, 0, 0, 1, 1, 1, 0, 1, 0, 0, 1, 0, 1, 1, 1, 1, 0, 0, 1, 1, 1, 1,\n",
       "       1, 0, 1, 0, 1, 0, 0, 1, 0, 1, 0, 0, 1, 1, 1, 0, 0, 1, 1, 1, 1, 0])"
      ]
     },
     "execution_count": 29,
     "metadata": {},
     "output_type": "execute_result"
    }
   ],
   "source": [
    "import numpy as np\n",
    "y_predicted=np.where(y_predicted>0.5,1,0)\n",
    "y_predicted"
   ]
  },
  {
   "cell_type": "code",
   "execution_count": 30,
   "id": "fc743f19",
   "metadata": {
    "execution": {
     "iopub.execute_input": "2024-01-30T20:16:34.059071Z",
     "iopub.status.busy": "2024-01-30T20:16:34.058619Z",
     "iopub.status.idle": "2024-01-30T20:16:34.972502Z",
     "shell.execute_reply": "2024-01-30T20:16:34.970840Z"
    },
    "papermill": {
     "duration": 0.977117,
     "end_time": "2024-01-30T20:16:34.978192",
     "exception": false,
     "start_time": "2024-01-30T20:16:34.001075",
     "status": "completed"
    },
    "tags": []
   },
   "outputs": [
    {
     "name": "stdout",
     "output_type": "stream",
     "text": [
      "1/1 [==============================] - 1s 838ms/step\n"
     ]
    }
   ],
   "source": [
    "reviews = [\n",
    "    'Enter a chance to win $5000, hurry up, offer valid until march 31, 2021',\n",
    "    'You are awarded a SiPix Digital Camera! call 09061221061 from landline. Delivery within 28days. T Cs Box177. M221BP. 2yr warranty. 150ppm. 16 . p pÂ£3.99',\n",
    "    'it to 80488. Your 500 free text messages are valid until 31 December 2005.',\n",
    "    'Hey Sam, Are you coming for a cricket game tomorrow',\n",
    "    \"Why don't you wait 'til at least wednesday to see if you get your .\"\n",
    "]\n",
    "arr=model.predict(reviews)"
   ]
  },
  {
   "cell_type": "code",
   "execution_count": 31,
   "id": "b84c549b",
   "metadata": {
    "execution": {
     "iopub.execute_input": "2024-01-30T20:16:35.076414Z",
     "iopub.status.busy": "2024-01-30T20:16:35.076083Z",
     "iopub.status.idle": "2024-01-30T20:16:35.082408Z",
     "shell.execute_reply": "2024-01-30T20:16:35.081064Z"
    },
    "papermill": {
     "duration": 0.057195,
     "end_time": "2024-01-30T20:16:35.084497",
     "exception": false,
     "start_time": "2024-01-30T20:16:35.027302",
     "status": "completed"
    },
    "tags": []
   },
   "outputs": [
    {
     "name": "stdout",
     "output_type": "stream",
     "text": [
      "SPAM\n",
      "SPAM\n",
      "SPAM\n",
      "NOT-SPAM\n",
      "NOT-SPAM\n"
     ]
    }
   ],
   "source": [
    "for x in arr:\n",
    "    if x<0.5:\n",
    "        print(\"NOT-SPAM\")\n",
    "    else:\n",
    "        print(\"SPAM\")"
   ]
  },
  {
   "cell_type": "code",
   "execution_count": null,
   "id": "99c5a2b1",
   "metadata": {
    "papermill": {
     "duration": 0.043832,
     "end_time": "2024-01-30T20:16:35.174311",
     "exception": false,
     "start_time": "2024-01-30T20:16:35.130479",
     "status": "completed"
    },
    "tags": []
   },
   "outputs": [],
   "source": []
  }
 ],
 "metadata": {
  "kaggle": {
   "accelerator": "nvidiaTeslaT4",
   "dataSources": [
    {
     "datasetId": 4377715,
     "sourceId": 7515639,
     "sourceType": "datasetVersion"
    },
    {
     "modelInstanceId": 2180,
     "sourceId": 2938,
     "sourceType": "modelInstanceVersion"
    },
    {
     "modelInstanceId": 1882,
     "sourceId": 2579,
     "sourceType": "modelInstanceVersion"
    }
   ],
   "dockerImageVersionId": 30648,
   "isGpuEnabled": true,
   "isInternetEnabled": true,
   "language": "python",
   "sourceType": "notebook"
  },
  "kernelspec": {
   "display_name": "Python 3",
   "language": "python",
   "name": "python3"
  },
  "language_info": {
   "codemirror_mode": {
    "name": "ipython",
    "version": 3
   },
   "file_extension": ".py",
   "mimetype": "text/x-python",
   "name": "python",
   "nbconvert_exporter": "python",
   "pygments_lexer": "ipython3",
   "version": "3.10.13"
  },
  "papermill": {
   "default_parameters": {},
   "duration": 171.356369,
   "end_time": "2024-01-30T20:16:38.547412",
   "environment_variables": {},
   "exception": null,
   "input_path": "__notebook__.ipynb",
   "output_path": "__notebook__.ipynb",
   "parameters": {},
   "start_time": "2024-01-30T20:13:47.191043",
   "version": "2.5.0"
  }
 },
 "nbformat": 4,
 "nbformat_minor": 5
}
